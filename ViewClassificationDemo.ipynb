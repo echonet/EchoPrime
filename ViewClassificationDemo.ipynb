{
 "cells": [
  {
   "cell_type": "code",
   "execution_count": 7,
   "id": "fb9b9fb3",
   "metadata": {},
   "outputs": [],
   "source": [
    "# Standard library imports\n",
    "import os\n",
    "import math\n",
    "import glob\n",
    "import json\n",
    "import pickle\n",
    "\n",
    "# Third-party library imports\n",
    "import torch\n",
    "import torchvision\n",
    "import torch.nn.functional as F\n",
    "import numpy as np\n",
    "import pandas as pd\n",
    "import matplotlib.pyplot as plt\n",
    "from tqdm import tqdm\n",
    "import cv2\n",
    "import pydicom\n",
    "import sklearn\n",
    "import sklearn.metrics\n",
    "\n",
    "# Local module imports\n",
    "import utils\n",
    "import video_utils"
   ]
  },
  {
   "cell_type": "code",
   "execution_count": 8,
   "id": "f31268d0",
   "metadata": {},
   "outputs": [],
   "source": [
    "device=torch.device(\"cuda\")"
   ]
  },
  {
   "cell_type": "code",
   "execution_count": 9,
   "id": "5fb369f6",
   "metadata": {},
   "outputs": [
    {
     "name": "stderr",
     "output_type": "stream",
     "text": [
      "/tmp/ipykernel_5393/2483250126.py:1: FutureWarning: You are using `torch.load` with `weights_only=False` (the current default value), which uses the default pickle module implicitly. It is possible to construct malicious pickle data which will execute arbitrary code during unpickling (See https://github.com/pytorch/pytorch/blob/main/SECURITY.md#untrusted-models for more details). In a future release, the default value for `weights_only` will be flipped to `True`. This limits the functions that could be executed during unpickling. Arbitrary objects will no longer be allowed to be loaded via this mode unless they are explicitly allowlisted by the user via `torch.serialization.add_safe_globals`. We recommend you start setting `weights_only=True` for any use case where you don't have full control of the loaded file. Please open an issue on GitHub for any issues related to this experimental feature.\n",
      "  vc_checkpoint = torch.load(\"model_data/weights/view_classifier.ckpt\")\n"
     ]
    }
   ],
   "source": [
    "vc_checkpoint = torch.load(\"model_data/weights/view_classifier.ckpt\")\n",
    "vc_state_dict={key[6:]:value for key,value in vc_checkpoint['state_dict'].items()}\n",
    "view_classifier = torchvision.models.convnext_base()\n",
    "view_classifier.classifier[-1] = torch.nn.Linear(\n",
    "    view_classifier.classifier[-1].in_features, 11\n",
    ")\n",
    "view_classifier.load_state_dict(vc_state_dict)\n",
    "view_classifier.to(device)\n",
    "view_classifier.eval()\n",
    "for param in view_classifier.parameters():\n",
    "    param.requires_grad = False"
   ]
  },
  {
   "cell_type": "code",
   "execution_count": 10,
   "id": "7280b2fd",
   "metadata": {},
   "outputs": [],
   "source": [
    "frames_to_take=32\n",
    "frame_stride=2\n",
    "video_size=224\n",
    "mean = torch.tensor([29.110628, 28.076836, 29.096405]).reshape(3, 1, 1, 1)\n",
    "std = torch.tensor([47.989223, 46.456997, 47.20083]).reshape(3, 1, 1, 1)\n",
    "\n",
    "def process_dicoms(INPUT):\n",
    "    \"\"\"\n",
    "    Reads DICOM video data from the specified folder and returns a tensor \n",
    "    formatted for input into the EchoPrime model.\n",
    "\n",
    "    Args:\n",
    "        INPUT (str): Path to the folder containing DICOM files.\n",
    "\n",
    "    Returns:\n",
    "        stack_of_videos (torch.Tensor): A float tensor of shape  (N, 3, 16, 224, 224)\n",
    "                                        representing the video data where N is the number of videos,\n",
    "                                        ready to be fed into EchoPrime.\n",
    "    \"\"\"\n",
    "\n",
    "    dicom_paths = glob.glob(f'{INPUT}/**/*.dcm',recursive=True)\n",
    "    stack_of_videos=[]\n",
    "    for idx, dicom_path in tqdm(enumerate(dicom_paths),total=len(dicom_paths)):\n",
    "        try:\n",
    "            # simple dicom_processing\n",
    "            dcm=pydicom.dcmread(dicom_path)\n",
    "            pixels = dcm.pixel_array\n",
    "            \n",
    "            # exclude images like (600,800) or (600,800,3)\n",
    "            if pixels.ndim < 3 or pixels.shape[2]==3:\n",
    "                continue \n",
    "                \n",
    "            # if single channel repeat to 3 channels    \n",
    "            if pixels.ndim==3:\n",
    "                \n",
    "                pixels = np.repeat(pixels[..., None], 3, axis=3)\n",
    "            \n",
    "            # mask everything outside ultrasound region\n",
    "            pixels=video_utils.mask_outside_ultrasound(pixels)\n",
    "            \n",
    "            \n",
    "            \n",
    "            #model specific preprocessing\n",
    "            x = np.zeros((len(pixels),224,224,3))\n",
    "            for i in range(len(x)):\n",
    "                x[i] = video_utils.crop_and_scale(pixels[i])\n",
    "            \n",
    "            x = torch.as_tensor(x, dtype=torch.float).permute([3,0,1,2])\n",
    "            # normalize\n",
    "            x.sub_(mean).div_(std)\n",
    "        \n",
    "            ## if not enough frames add padding\n",
    "            if x.shape[1] < frames_to_take:\n",
    "                padding = torch.zeros(\n",
    "                (\n",
    "                    3,\n",
    "                    frames_to_take - x.shape[1],\n",
    "                    video_size,\n",
    "                    video_size,\n",
    "                ),\n",
    "                dtype=torch.float,\n",
    "                )\n",
    "                x = torch.cat((x, padding), dim=1)\n",
    "                \n",
    "            start=0\n",
    "            stack_of_videos.append(x[:, start : ( start + frames_to_take) : frame_stride, : , : ])\n",
    "            \n",
    "        except Exception as e:\n",
    "            print(\"corrupt file\")\n",
    "            print(str(e))\n",
    "\n",
    "    stack_of_videos=torch.stack(stack_of_videos)\n",
    "    \n",
    "    return stack_of_videos"
   ]
  },
  {
   "cell_type": "code",
   "execution_count": 11,
   "id": "669a453e",
   "metadata": {},
   "outputs": [],
   "source": [
    "def get_view_list(stack_of_videos, visualize=False, output=None):\n",
    "    \"\"\"\n",
    "    Args:\n",
    "        stack_of_videos (torch.Tensor): A float tensor with preprocessed echo video data\n",
    "        \n",
    "    Returns:\n",
    "        view_list A list of predicted views\n",
    "    \"\"\"\n",
    "    ## get views   \n",
    "    stack_of_first_frames = stack_of_videos[:,:,0,:,:].to(device)\n",
    "    with torch.no_grad():\n",
    "        out_logits=view_classifier(stack_of_first_frames)\n",
    "    out_views=torch.argmax(out_logits,dim=1)\n",
    "    view_list = [utils.COARSE_VIEWS[v] for v in out_views]\n",
    "\n",
    "    # visualize images and the assigned views\n",
    "    if visualize:\n",
    "        print(\"Preprocessed and normalized video inputs\")\n",
    "        rows, cols = (len(view_list) // 12 + (len(view_list) % 9 > 0)), 12\n",
    "        fig, axes = plt.subplots(rows, cols, figsize=(cols, rows))\n",
    "        axes = axes.flatten()\n",
    "        for i in range(len(view_list)):\n",
    "            display_image = (stack_of_first_frames[i].cpu().permute([1,2,0]) * 255).numpy()\n",
    "            display_image = np.clip(display_image, 0, 255).astype('uint8')\n",
    "            display_image = np.ascontiguousarray(display_image)\n",
    "            display_image = cv2.cvtColor(display_image, cv2.COLOR_RGB2BGR)\n",
    "            cv2.putText(display_image, view_list[i].replace(\"_\",\" \"), (10, 25), cv2.FONT_HERSHEY_SIMPLEX, 0.7, (0, 220, 255), 2)\n",
    "            if output:\n",
    "                cv2.imwrite(os.path.join(output, f\"{i}.jpg\"), display_image)\n",
    "            axes[i].imshow(display_image)\n",
    "            axes[i].axis('off')\n",
    "\n",
    "        for j in range(i + 1, len(axes)):\n",
    "            axes[j].axis('off')\n",
    "        plt.subplots_adjust(wspace=0.05, hspace=0.05)\n",
    "        plt.show()\n",
    "\n",
    "        \n",
    "    return view_list"
   ]
  },
  {
   "cell_type": "code",
   "execution_count": 12,
   "id": "68dddd3f-530c-4a45-a368-760ddfabfd00",
   "metadata": {},
   "outputs": [],
   "source": [
    "INPUT = \"/media/aicvi/11111bdb-a0c7-4342-9791-36af7eb70fc0/Swiss-Care Echos/\"\n",
    "OUTPUT = \"/media/aicvi/11111bdb-a0c7-4342-9791-36af7eb70fc0/Swiss-Care Echos/output\"\n",
    "os.makedirs(OUTPUT, exist_ok=True)"
   ]
  },
  {
   "cell_type": "code",
   "execution_count": 16,
   "id": "9da16719-f5c1-4d2e-ab30-c27825c9c726",
   "metadata": {},
   "outputs": [
    {
     "data": {
      "text/plain": [
       "['/media/aicvi/11111bdb-a0c7-4342-9791-36af7eb70fc0/Swiss-Care Echos/Andreas Jost-0760002100/TRANSTHORAKALES ECHO (TTE)-20240429-SYN1279758',\n",
       " '/media/aicvi/11111bdb-a0c7-4342-9791-36af7eb70fc0/Swiss-Care Echos/Andreas Von Känel-0008411786/TRANSTHORAKALES ECHO (TTE)-20240607-SYN1303838',\n",
       " '/media/aicvi/11111bdb-a0c7-4342-9791-36af7eb70fc0/Swiss-Care Echos/André Allemann-0015028658/TRANSTHORAKALES ECHO (TTE)-20240919-SYN1366377',\n",
       " '/media/aicvi/11111bdb-a0c7-4342-9791-36af7eb70fc0/Swiss-Care Echos/André Allemann-0015028658/kard TTE amb-20240305-KISIM11785085',\n",
       " '/media/aicvi/11111bdb-a0c7-4342-9791-36af7eb70fc0/Swiss-Care Echos/Bernd Krestan-0760215760/TRANSTHORAKALES ECHO (TTE)-20240819-SYN1345874',\n",
       " '/media/aicvi/11111bdb-a0c7-4342-9791-36af7eb70fc0/Swiss-Care Echos/Bernd Krestan-0760215760/TRANSTHORAKALES ECHO (TTE)-20240819-SYN1345874_output',\n",
       " '/media/aicvi/11111bdb-a0c7-4342-9791-36af7eb70fc0/Swiss-Care Echos/Christian Schmid-0003359050/TRANSTHORAKALES ECHO (TTE)-20240517-SYN1290375',\n",
       " '/media/aicvi/11111bdb-a0c7-4342-9791-36af7eb70fc0/Swiss-Care Echos/Christian Schmid-0003359050/TRANSTHORAKALES ECHO (TTE)-20240823-SYN1349585',\n",
       " '/media/aicvi/11111bdb-a0c7-4342-9791-36af7eb70fc0/Swiss-Care Echos/Christian Schmid-0003359050/TRANSÖSOPHAGEALES ECHO (TEE)-20240515-SYN1289965',\n",
       " '/media/aicvi/11111bdb-a0c7-4342-9791-36af7eb70fc0/Swiss-Care Echos/Daniel Vuilleumier-0016324927/TRANSTHORAKALES ECHO (TTE)-20240408-SYN1268073',\n",
       " '/media/aicvi/11111bdb-a0c7-4342-9791-36af7eb70fc0/Swiss-Care Echos/Daniel Vuilleumier-0016324927/TRANSTHORAKALES ECHO (TTE)-20240621-SYN1312590',\n",
       " '/media/aicvi/11111bdb-a0c7-4342-9791-36af7eb70fc0/Swiss-Care Echos/Ernst Zimmermann-0083247955/TTE-20231103',\n",
       " '/media/aicvi/11111bdb-a0c7-4342-9791-36af7eb70fc0/Swiss-Care Echos/Fritz Kummer-0008427410/Echokardiographie Bilder-20161221-20161221.082112',\n",
       " '/media/aicvi/11111bdb-a0c7-4342-9791-36af7eb70fc0/Swiss-Care Echos/Fritz Kummer-0008427410/TRANSTHORAKALES ECHO (TTE)-20240726-SYN1332986',\n",
       " '/media/aicvi/11111bdb-a0c7-4342-9791-36af7eb70fc0/Swiss-Care Echos/Fritz Von Känel-0015719820/TRANSTHORAKALES ECHO (TTE)-20240723-SYN1330612',\n",
       " '/media/aicvi/11111bdb-a0c7-4342-9791-36af7eb70fc0/Swiss-Care Echos/Hans-Peter Marti-0006704620/TRANSTHORAKALES ECHO (TTE)-20240802-SYN1336535',\n",
       " '/media/aicvi/11111bdb-a0c7-4342-9791-36af7eb70fc0/Swiss-Care Echos/Hans-Rudolf Müller-0760193360/ICU - TRANSTHORAKALES ECHO (TTE)-20240614-SYN1308495',\n",
       " '/media/aicvi/11111bdb-a0c7-4342-9791-36af7eb70fc0/Swiss-Care Echos/Hans-Rudolf Müller-0760193360/TRANSTHORAKALES ECHO (TTE)-20240617-SYN1308769',\n",
       " '/media/aicvi/11111bdb-a0c7-4342-9791-36af7eb70fc0/Swiss-Care Echos/Hans-Rudolf Müller-0760193360/TRANSTHORAKALES ECHO (TTE)-20240725-SYN1331788',\n",
       " '/media/aicvi/11111bdb-a0c7-4342-9791-36af7eb70fc0/Swiss-Care Echos/Hans-Rudolf Müller-0760193360/TRANSTHORAKALES ECHO (TTE)-20240904-SYN1356862',\n",
       " '/media/aicvi/11111bdb-a0c7-4342-9791-36af7eb70fc0/Swiss-Care Echos/Heinz Rüegsegger-0015967417/Echo extern-20240517-SE0524',\n",
       " '/media/aicvi/11111bdb-a0c7-4342-9791-36af7eb70fc0/Swiss-Care Echos/Hermann Willy Bögli-0018110970/Echo TTE-20230528-ipd910231392TTE',\n",
       " '/media/aicvi/11111bdb-a0c7-4342-9791-36af7eb70fc0/Swiss-Care Echos/Hermann Willy Bögli-0018110970/Echokardiographie Bilder-20230527-20230527.210206',\n",
       " '/media/aicvi/11111bdb-a0c7-4342-9791-36af7eb70fc0/Swiss-Care Echos/Jean-Marc Barras-0008208298/Cardiac-20120116-3f15af81-1a0b-43',\n",
       " '/media/aicvi/11111bdb-a0c7-4342-9791-36af7eb70fc0/Swiss-Care Echos/Jean-Marc Barras-0008208298/Cardiac-20120131-65d31936-aedc-4c',\n",
       " '/media/aicvi/11111bdb-a0c7-4342-9791-36af7eb70fc0/Swiss-Care Echos/Jean-Marc Barras-0008208298/Cardiac-20120206-38b7c3bb-bd42-4c',\n",
       " '/media/aicvi/11111bdb-a0c7-4342-9791-36af7eb70fc0/Swiss-Care Echos/Jean-Marc Barras-0008208298/Cardiac-20120327-353973d6-78da-49',\n",
       " '/media/aicvi/11111bdb-a0c7-4342-9791-36af7eb70fc0/Swiss-Care Echos/Jean-Marc Barras-0008208298/Cardiac-20130709-9d7d9721-bcb1-40',\n",
       " '/media/aicvi/11111bdb-a0c7-4342-9791-36af7eb70fc0/Swiss-Care Echos/Jean-Marc Barras-0008208298/Cardiac-20140603-50afbd53-fd0e-4a',\n",
       " '/media/aicvi/11111bdb-a0c7-4342-9791-36af7eb70fc0/Swiss-Care Echos/Jean-Marc Barras-0008208298/Echokardiographie Bilder-20120108-20120108.043936',\n",
       " '/media/aicvi/11111bdb-a0c7-4342-9791-36af7eb70fc0/Swiss-Care Echos/Jean-Marc Barras-0008208298/Echokardiographie Bilder-20120112-20120112.122651',\n",
       " '/media/aicvi/11111bdb-a0c7-4342-9791-36af7eb70fc0/Swiss-Care Echos/Jean-Marc Barras-0008208298/Echokardiographie Bilder-20120126-20120126.150449',\n",
       " '/media/aicvi/11111bdb-a0c7-4342-9791-36af7eb70fc0/Swiss-Care Echos/Jean-Marc Barras-0008208298/Echokardiographie Bilder-20120203-20120203.081817',\n",
       " '/media/aicvi/11111bdb-a0c7-4342-9791-36af7eb70fc0/Swiss-Care Echos/Jean-Marc Barras-0008208298/Echokardiographie Bilder-20120209-20120209.090732',\n",
       " '/media/aicvi/11111bdb-a0c7-4342-9791-36af7eb70fc0/Swiss-Care Echos/Jean-Marc Barras-0008208298/Echokardiographie Bilder-20120223-20120223.152148',\n",
       " '/media/aicvi/11111bdb-a0c7-4342-9791-36af7eb70fc0/Swiss-Care Echos/Jean-Marc Barras-0008208298/Echokardiographie Bilder-20120302-20120302.113204',\n",
       " '/media/aicvi/11111bdb-a0c7-4342-9791-36af7eb70fc0/Swiss-Care Echos/Jean-Marc Barras-0008208298/Echokardiographie Bilder-20120308-20120308.161723',\n",
       " '/media/aicvi/11111bdb-a0c7-4342-9791-36af7eb70fc0/Swiss-Care Echos/Jean-Marc Barras-0008208298/Echokardiographie Bilder-20120417-20120417.090505',\n",
       " '/media/aicvi/11111bdb-a0c7-4342-9791-36af7eb70fc0/Swiss-Care Echos/Jean-Marc Barras-0008208298/Echokardiographie Bilder-20120524-20120524.100741',\n",
       " '/media/aicvi/11111bdb-a0c7-4342-9791-36af7eb70fc0/Swiss-Care Echos/Jean-Marc Barras-0008208298/Echokardiographie Bilder-20120724-20120724.090138',\n",
       " '/media/aicvi/11111bdb-a0c7-4342-9791-36af7eb70fc0/Swiss-Care Echos/Jean-Marc Barras-0008208298/Echokardiographie Bilder-20120918-20120918.090913',\n",
       " '/media/aicvi/11111bdb-a0c7-4342-9791-36af7eb70fc0/Swiss-Care Echos/Jean-Marc Barras-0008208298/Echokardiographie Bilder-20121120-20121120.100830',\n",
       " '/media/aicvi/11111bdb-a0c7-4342-9791-36af7eb70fc0/Swiss-Care Echos/Jean-Marc Barras-0008208298/Echokardiographie Bilder-20130129-20130129.090519',\n",
       " '/media/aicvi/11111bdb-a0c7-4342-9791-36af7eb70fc0/Swiss-Care Echos/Jean-Marc Barras-0008208298/Echokardiographie Bilder-20130319-20130319.090539',\n",
       " '/media/aicvi/11111bdb-a0c7-4342-9791-36af7eb70fc0/Swiss-Care Echos/Jean-Marc Barras-0008208298/Echokardiographie Bilder-20140717-20140717.153152',\n",
       " '/media/aicvi/11111bdb-a0c7-4342-9791-36af7eb70fc0/Swiss-Care Echos/Jean-Marc Barras-0008208298/Echokardiographie Bilder-20180917',\n",
       " '/media/aicvi/11111bdb-a0c7-4342-9791-36af7eb70fc0/Swiss-Care Echos/Jean-Marc Barras-0008208298/Insel Echo-20120106-8642',\n",
       " '/media/aicvi/11111bdb-a0c7-4342-9791-36af7eb70fc0/Swiss-Care Echos/Jean-Marc Barras-0008208298/Insel Echo-20120107-8644',\n",
       " '/media/aicvi/11111bdb-a0c7-4342-9791-36af7eb70fc0/Swiss-Care Echos/Jean-Marc Barras-0008208298/Insel Echo-20120108-8653',\n",
       " '/media/aicvi/11111bdb-a0c7-4342-9791-36af7eb70fc0/Swiss-Care Echos/Jean-Marc Barras-0008208298/Insel Echo-20120109-8679',\n",
       " '/media/aicvi/11111bdb-a0c7-4342-9791-36af7eb70fc0/Swiss-Care Echos/Jean-Marc Barras-0008208298/Insel Echo-20120110-8702',\n",
       " '/media/aicvi/11111bdb-a0c7-4342-9791-36af7eb70fc0/Swiss-Care Echos/Jean-Marc Barras-0008208298/Insel Echo-20120114-8733',\n",
       " '/media/aicvi/11111bdb-a0c7-4342-9791-36af7eb70fc0/Swiss-Care Echos/Jean-Marc Barras-0008208298/Insel Echo-20120127-8872',\n",
       " '/media/aicvi/11111bdb-a0c7-4342-9791-36af7eb70fc0/Swiss-Care Echos/Jean-Marc Barras-0008208298/Insel Echo-20130404-20130404.111953',\n",
       " '/media/aicvi/11111bdb-a0c7-4342-9791-36af7eb70fc0/Swiss-Care Echos/Jean-Marc Barras-0008208298/Insel Echo-20150610',\n",
       " '/media/aicvi/11111bdb-a0c7-4342-9791-36af7eb70fc0/Swiss-Care Echos/Jean-Marc Barras-0008208298/TRANSTHORAKALES ECHO (TTE)-20240308-SYN1251066',\n",
       " '/media/aicvi/11111bdb-a0c7-4342-9791-36af7eb70fc0/Swiss-Care Echos/Jean-Marc Barras-0008208298/TRANSTHORAKALES ECHO (TTE)-20241004-SYN1375312',\n",
       " '/media/aicvi/11111bdb-a0c7-4342-9791-36af7eb70fc0/Swiss-Care Echos/Jean-Marc Barras-0008208298/TTE Onk.-20210615-PP36634762',\n",
       " '/media/aicvi/11111bdb-a0c7-4342-9791-36af7eb70fc0/Swiss-Care Echos/Jean-Marc Barras-0008208298/TTE Onk.-20220809-PP41992828',\n",
       " '/media/aicvi/11111bdb-a0c7-4342-9791-36af7eb70fc0/Swiss-Care Echos/Jean-Marc Barras-0008208298/TTE-20230720-PP45126282',\n",
       " '/media/aicvi/11111bdb-a0c7-4342-9791-36af7eb70fc0/Swiss-Care Echos/Jean-Marc Barras-0008208298/tte-20170606',\n",
       " '/media/aicvi/11111bdb-a0c7-4342-9791-36af7eb70fc0/Swiss-Care Echos/Jean-Pierre Egger-0011018615/ELEKTROKARDIOVERSION (EKV) MIT TEE-20240909-SYN1359418',\n",
       " '/media/aicvi/11111bdb-a0c7-4342-9791-36af7eb70fc0/Swiss-Care Echos/Jean-Pierre Egger-0011018615/ELEKTROKARDIOVERSION (EKV) MIT TEE-20241007-SYN1376327',\n",
       " '/media/aicvi/11111bdb-a0c7-4342-9791-36af7eb70fc0/Swiss-Care Echos/Jean-Pierre Egger-0011018615/TRANSTHORAKALES ECHO (TTE)-20240823-SYN1350047',\n",
       " '/media/aicvi/11111bdb-a0c7-4342-9791-36af7eb70fc0/Swiss-Care Echos/Jean-Pierre Egger-0011018615/TTE-20240214-PP47691546',\n",
       " '/media/aicvi/11111bdb-a0c7-4342-9791-36af7eb70fc0/Swiss-Care Echos/Jörg Frei-0082469440/TRANSTHORAKALES ECHO (TTE)-20240828-SYN1352410',\n",
       " '/media/aicvi/11111bdb-a0c7-4342-9791-36af7eb70fc0/Swiss-Care Echos/Martin Dumermuth-0008706379/TTE-20240214-PP47636462',\n",
       " '/media/aicvi/11111bdb-a0c7-4342-9791-36af7eb70fc0/Swiss-Care Echos/Paul Allemann-0760019480/BEDSIDE - TRANSTHORAKALES ECHO (TTE)-20240607-SYN1304251',\n",
       " '/media/aicvi/11111bdb-a0c7-4342-9791-36af7eb70fc0/Swiss-Care Echos/Paul Allemann-0760019480/TRANSTHORAKALES ECHO (TTE)-20240424-SYN1277366',\n",
       " '/media/aicvi/11111bdb-a0c7-4342-9791-36af7eb70fc0/Swiss-Care Echos/Paul Allemann-0760019480/TRANSÖSOPHAGEALES ECHO (TEE)-20240606-SYN1303217',\n",
       " '/media/aicvi/11111bdb-a0c7-4342-9791-36af7eb70fc0/Swiss-Care Echos/Peter Kreuz-0082021058/TRANSTHORAKALES ECHO (TTE)-20240415-SYN1271974',\n",
       " '/media/aicvi/11111bdb-a0c7-4342-9791-36af7eb70fc0/Swiss-Care Echos/Peter Kreuz-0082021058/TRANSTHORAKALES ECHO (TTE)-20240612-SYN1306475',\n",
       " '/media/aicvi/11111bdb-a0c7-4342-9791-36af7eb70fc0/Swiss-Care Echos/Peter Kreuz-0082021058/TRANSÖSOPHAGEALES ECHO (TEE)-20240708-SYN1321746',\n",
       " '/media/aicvi/11111bdb-a0c7-4342-9791-36af7eb70fc0/Swiss-Care Echos/Peter Kreuz-0082021058/TTE-20231002-PP46665552',\n",
       " '/media/aicvi/11111bdb-a0c7-4342-9791-36af7eb70fc0/Swiss-Care Echos/Peter Kreuz-0082021058/TTE-20231119-PP47314771',\n",
       " '/media/aicvi/11111bdb-a0c7-4342-9791-36af7eb70fc0/Swiss-Care Echos/Peter Stuker-0011035684/Echokardiographie Bilder-20240221',\n",
       " '/media/aicvi/11111bdb-a0c7-4342-9791-36af7eb70fc0/Swiss-Care Echos/Peter Stuker-0011035684/TEE-20230714-PP45969709',\n",
       " '/media/aicvi/11111bdb-a0c7-4342-9791-36af7eb70fc0/Swiss-Care Echos/Peter Stuker-0011035684/TRANSTHORAKALES ECHO (TTE)-20240910-SYN1360545',\n",
       " '/media/aicvi/11111bdb-a0c7-4342-9791-36af7eb70fc0/Swiss-Care Echos/Peter Stuker-0011035684/TTE advanced-20230714-PP45889500',\n",
       " '/media/aicvi/11111bdb-a0c7-4342-9791-36af7eb70fc0/Swiss-Care Echos/Peter Stuker-0011035684/TTE-20230922-PP46710971',\n",
       " '/media/aicvi/11111bdb-a0c7-4342-9791-36af7eb70fc0/Swiss-Care Echos/Peter Stuker-0011035684/TTE-20231017-PP46701679',\n",
       " '/media/aicvi/11111bdb-a0c7-4342-9791-36af7eb70fc0/Swiss-Care Echos/René Pellet-0018103230/TRANSTHORAKALES ECHO (TTE)-20240710-SYN1323204',\n",
       " '/media/aicvi/11111bdb-a0c7-4342-9791-36af7eb70fc0/Swiss-Care Echos/René Pellet-0018103230/TTE-20230810-PP45476156',\n",
       " '/media/aicvi/11111bdb-a0c7-4342-9791-36af7eb70fc0/Swiss-Care Echos/René Pellet-0018103230/TTE-20240229-PP47351896',\n",
       " '/media/aicvi/11111bdb-a0c7-4342-9791-36af7eb70fc0/Swiss-Care Echos/Roger Bohler-0008154880/TRANSTHORAKALES ECHO (TTE)-20240709-SYN1322073',\n",
       " '/media/aicvi/11111bdb-a0c7-4342-9791-36af7eb70fc0/Swiss-Care Echos/Samuel Stettler-0016872304/TRANSTHORAKALES ECHO (TTE)-20240430-SYN1280887',\n",
       " '/media/aicvi/11111bdb-a0c7-4342-9791-36af7eb70fc0/Swiss-Care Echos/Werner Helfer-0001702270/Cardiac-20101117-Cardiac',\n",
       " '/media/aicvi/11111bdb-a0c7-4342-9791-36af7eb70fc0/Swiss-Care Echos/output/Andreas Jost-0760002100']"
      ]
     },
     "execution_count": 16,
     "metadata": {},
     "output_type": "execute_result"
    }
   ],
   "source": [
    "from deep_utils import DirUtils\n",
    "patients = DirUtils.list_dir_full_path(INPUT, only_directories=True, dir_depth=2, exact_depth=True)\n",
    "patients"
   ]
  },
  {
   "cell_type": "code",
   "execution_count": 21,
   "id": "11142417",
   "metadata": {},
   "outputs": [
    {
     "name": "stdout",
     "output_type": "stream",
     "text": [
      "[INFO] Working on /media/aicvi/11111bdb-a0c7-4342-9791-36af7eb70fc0/Swiss-Care Echos/Andreas Jost-0760002100/TRANSTHORAKALES ECHO (TTE)-20240429-SYN1279758\n",
      "output: /media/aicvi/11111bdb-a0c7-4342-9791-36af7eb70fc0/Swiss-Care Echos/output/Andreas Jost-0760002100/TRANSTHORAKALES ECHO (TTE)-20240429-SYN1279758\n"
     ]
    },
    {
     "name": "stderr",
     "output_type": "stream",
     "text": [
      "  2%|▉                                       | 131/5767 [01:06<51:25,  1.83it/s]"
     ]
    },
    {
     "name": "stdout",
     "output_type": "stream",
     "text": [
      "corrupt file\n",
      "Unable to convert the pixel data: one of Pixel Data, Float Pixel Data or Double Float Pixel Data must be present in the dataset\n"
     ]
    },
    {
     "name": "stderr",
     "output_type": "stream",
     "text": [
      "  2%|▉                                       | 140/5767 [01:10<48:18,  1.94it/s]"
     ]
    },
    {
     "name": "stdout",
     "output_type": "stream",
     "text": [
      "corrupt file\n",
      "Unable to convert the pixel data: one of Pixel Data, Float Pixel Data or Double Float Pixel Data must be present in the dataset\n"
     ]
    },
    {
     "name": "stderr",
     "output_type": "stream",
     "text": [
      "  3%|█                                       | 145/5767 [01:11<30:22,  3.08it/s]"
     ]
    },
    {
     "name": "stdout",
     "output_type": "stream",
     "text": [
      "corrupt file\n",
      "Unable to convert the pixel data: one of Pixel Data, Float Pixel Data or Double Float Pixel Data must be present in the dataset\n"
     ]
    },
    {
     "name": "stderr",
     "output_type": "stream",
     "text": [
      "  3%|█                                       | 147/5767 [01:13<46:36,  2.01it/s]"
     ]
    },
    {
     "name": "stdout",
     "output_type": "stream",
     "text": [
      "corrupt file\n",
      "Unable to convert the pixel data: one of Pixel Data, Float Pixel Data or Double Float Pixel Data must be present in the dataset\n"
     ]
    },
    {
     "name": "stderr",
     "output_type": "stream",
     "text": [
      "  3%|█                                       | 150/5767 [01:15<54:54,  1.70it/s]"
     ]
    },
    {
     "name": "stdout",
     "output_type": "stream",
     "text": [
      "corrupt file\n",
      "Unable to convert the pixel data: one of Pixel Data, Float Pixel Data or Double Float Pixel Data must be present in the dataset\n"
     ]
    },
    {
     "name": "stderr",
     "output_type": "stream",
     "text": [
      "  3%|█                                       | 155/5767 [01:17<45:35,  2.05it/s]"
     ]
    },
    {
     "name": "stdout",
     "output_type": "stream",
     "text": [
      "corrupt file\n",
      "Unable to convert the pixel data: one of Pixel Data, Float Pixel Data or Double Float Pixel Data must be present in the dataset\n"
     ]
    },
    {
     "name": "stderr",
     "output_type": "stream",
     "text": [
      "  3%|█                                     | 161/5767 [01:23<1:28:40,  1.05it/s]"
     ]
    },
    {
     "name": "stdout",
     "output_type": "stream",
     "text": [
      "corrupt file\n",
      "Unable to convert the pixel data: one of Pixel Data, Float Pixel Data or Double Float Pixel Data must be present in the dataset\n"
     ]
    },
    {
     "name": "stderr",
     "output_type": "stream",
     "text": [
      "  3%|█                                     | 164/5767 [01:24<1:02:46,  1.49it/s]"
     ]
    },
    {
     "name": "stdout",
     "output_type": "stream",
     "text": [
      "corrupt file\n",
      "Unable to convert the pixel data: one of Pixel Data, Float Pixel Data or Double Float Pixel Data must be present in the dataset\n"
     ]
    },
    {
     "name": "stderr",
     "output_type": "stream",
     "text": [
      "  3%|█▏                                      | 170/5767 [01:25<37:43,  2.47it/s]"
     ]
    },
    {
     "name": "stdout",
     "output_type": "stream",
     "text": [
      "corrupt file\n",
      "Unable to convert the pixel data: one of Pixel Data, Float Pixel Data or Double Float Pixel Data must be present in the dataset\n"
     ]
    },
    {
     "name": "stderr",
     "output_type": "stream",
     "text": [
      "  3%|█▎                                      | 194/5767 [01:43<56:01,  1.66it/s]"
     ]
    },
    {
     "name": "stdout",
     "output_type": "stream",
     "text": [
      "corrupt file\n",
      "Unable to convert the pixel data: one of Pixel Data, Float Pixel Data or Double Float Pixel Data must be present in the dataset\n"
     ]
    },
    {
     "name": "stderr",
     "output_type": "stream",
     "text": [
      "  4%|█▎                                    | 206/5767 [01:53<1:33:26,  1.01s/it]"
     ]
    },
    {
     "name": "stdout",
     "output_type": "stream",
     "text": [
      "corrupt file\n",
      "Unable to convert the pixel data: one of Pixel Data, Float Pixel Data or Double Float Pixel Data must be present in the dataset\n"
     ]
    },
    {
     "name": "stderr",
     "output_type": "stream",
     "text": [
      "  4%|█▍                                    | 221/5767 [02:07<1:55:01,  1.24s/it]"
     ]
    },
    {
     "name": "stdout",
     "output_type": "stream",
     "text": [
      "corrupt file\n",
      "Unable to convert the pixel data: one of Pixel Data, Float Pixel Data or Double Float Pixel Data must be present in the dataset\n"
     ]
    },
    {
     "name": "stderr",
     "output_type": "stream",
     "text": [
      "  5%|█▉                                    | 301/5767 [03:32<2:15:33,  1.49s/it]"
     ]
    },
    {
     "name": "stdout",
     "output_type": "stream",
     "text": [
      "corrupt file\n",
      "Unable to convert the pixel data: one of Pixel Data, Float Pixel Data or Double Float Pixel Data must be present in the dataset\n"
     ]
    },
    {
     "name": "stderr",
     "output_type": "stream",
     "text": [
      "  8%|███▏                                    | 456/5767 [06:14<50:23,  1.76it/s]"
     ]
    },
    {
     "name": "stdout",
     "output_type": "stream",
     "text": [
      "corrupt file\n",
      "Unable to convert the pixel data: one of Pixel Data, Float Pixel Data or Double Float Pixel Data must be present in the dataset\n"
     ]
    },
    {
     "name": "stderr",
     "output_type": "stream",
     "text": [
      "  8%|███                                   | 466/5767 [06:23<1:12:17,  1.22it/s]"
     ]
    },
    {
     "name": "stdout",
     "output_type": "stream",
     "text": [
      "corrupt file\n",
      "Unable to convert the pixel data: one of Pixel Data, Float Pixel Data or Double Float Pixel Data must be present in the dataset\n"
     ]
    },
    {
     "name": "stderr",
     "output_type": "stream",
     "text": [
      "  9%|███▍                                  | 519/5767 [07:05<1:05:51,  1.33it/s]"
     ]
    },
    {
     "name": "stdout",
     "output_type": "stream",
     "text": [
      "corrupt file\n",
      "Unable to convert the pixel data: one of Pixel Data, Float Pixel Data or Double Float Pixel Data must be present in the dataset\n"
     ]
    },
    {
     "name": "stderr",
     "output_type": "stream",
     "text": [
      " 10%|███▋                                  | 558/5767 [07:33<1:39:10,  1.14s/it]"
     ]
    },
    {
     "name": "stdout",
     "output_type": "stream",
     "text": [
      "corrupt file\n",
      "Unable to convert the pixel data: one of Pixel Data, Float Pixel Data or Double Float Pixel Data must be present in the dataset\n"
     ]
    },
    {
     "name": "stderr",
     "output_type": "stream",
     "text": [
      " 11%|████▎                                   | 617/5767 [08:12<17:50,  4.81it/s]"
     ]
    },
    {
     "name": "stdout",
     "output_type": "stream",
     "text": [
      "corrupt file\n",
      "Unable to convert the pixel data: one of Pixel Data, Float Pixel Data or Double Float Pixel Data must be present in the dataset\n"
     ]
    },
    {
     "name": "stderr",
     "output_type": "stream",
     "text": [
      " 11%|████▍                                   | 637/5767 [08:18<20:15,  4.22it/s]"
     ]
    },
    {
     "name": "stdout",
     "output_type": "stream",
     "text": [
      "corrupt file\n",
      "Unable to convert the pixel data: one of Pixel Data, Float Pixel Data or Double Float Pixel Data must be present in the dataset\n"
     ]
    },
    {
     "name": "stderr",
     "output_type": "stream",
     "text": [
      " 12%|████▋                                   | 684/5767 [08:39<37:18,  2.27it/s]"
     ]
    },
    {
     "name": "stdout",
     "output_type": "stream",
     "text": [
      "corrupt file\n",
      "Unable to convert the pixel data: one of Pixel Data, Float Pixel Data or Double Float Pixel Data must be present in the dataset\n"
     ]
    },
    {
     "name": "stderr",
     "output_type": "stream",
     "text": [
      " 13%|████▉                                 | 741/5767 [09:26<1:07:39,  1.24it/s]"
     ]
    },
    {
     "name": "stdout",
     "output_type": "stream",
     "text": [
      "corrupt file\n",
      "Unable to convert the pixel data: one of Pixel Data, Float Pixel Data or Double Float Pixel Data must be present in the dataset\n"
     ]
    },
    {
     "name": "stderr",
     "output_type": "stream",
     "text": [
      " 14%|█████▏                                | 781/5767 [10:04<1:01:31,  1.35it/s]"
     ]
    },
    {
     "name": "stdout",
     "output_type": "stream",
     "text": [
      "corrupt file\n",
      "Unable to convert the pixel data: one of Pixel Data, Float Pixel Data or Double Float Pixel Data must be present in the dataset\n"
     ]
    },
    {
     "name": "stderr",
     "output_type": "stream",
     "text": [
      " 14%|█████▋                                  | 822/5767 [10:20<35:31,  2.32it/s]"
     ]
    },
    {
     "name": "stdout",
     "output_type": "stream",
     "text": [
      "corrupt file\n",
      "Unable to convert the pixel data: one of Pixel Data, Float Pixel Data or Double Float Pixel Data must be present in the dataset\n"
     ]
    },
    {
     "name": "stderr",
     "output_type": "stream",
     "text": [
      " 15%|█████▊                                  | 846/5767 [10:32<24:57,  3.29it/s]"
     ]
    },
    {
     "name": "stdout",
     "output_type": "stream",
     "text": [
      "corrupt file\n",
      "Unable to convert the pixel data: one of Pixel Data, Float Pixel Data or Double Float Pixel Data must be present in the dataset\n"
     ]
    },
    {
     "name": "stderr",
     "output_type": "stream",
     "text": [
      " 15%|█████▉                                  | 852/5767 [10:33<14:21,  5.70it/s]"
     ]
    },
    {
     "name": "stdout",
     "output_type": "stream",
     "text": [
      "corrupt file\n",
      "Unable to convert the pixel data: one of Pixel Data, Float Pixel Data or Double Float Pixel Data must be present in the dataset\n",
      "corrupt file\n",
      "Unable to convert the pixel data: one of Pixel Data, Float Pixel Data or Double Float Pixel Data must be present in the dataset\n"
     ]
    },
    {
     "name": "stderr",
     "output_type": "stream",
     "text": [
      " 15%|█████▉                                  | 857/5767 [10:35<29:44,  2.75it/s]"
     ]
    },
    {
     "name": "stdout",
     "output_type": "stream",
     "text": [
      "corrupt file\n",
      "Unable to convert the pixel data: one of Pixel Data, Float Pixel Data or Double Float Pixel Data must be present in the dataset\n"
     ]
    },
    {
     "name": "stderr",
     "output_type": "stream",
     "text": [
      " 15%|█████▉                                  | 865/5767 [10:39<37:21,  2.19it/s]"
     ]
    },
    {
     "name": "stdout",
     "output_type": "stream",
     "text": [
      "corrupt file\n",
      "Unable to convert the pixel data: one of Pixel Data, Float Pixel Data or Double Float Pixel Data must be present in the dataset\n"
     ]
    },
    {
     "name": "stderr",
     "output_type": "stream",
     "text": [
      " 15%|██████                                  | 871/5767 [10:42<36:54,  2.21it/s]"
     ]
    },
    {
     "name": "stdout",
     "output_type": "stream",
     "text": [
      "corrupt file\n",
      "Unable to convert the pixel data: one of Pixel Data, Float Pixel Data or Double Float Pixel Data must be present in the dataset\n"
     ]
    },
    {
     "name": "stderr",
     "output_type": "stream",
     "text": [
      " 15%|██████                                  | 882/5767 [10:47<25:28,  3.20it/s]"
     ]
    },
    {
     "name": "stdout",
     "output_type": "stream",
     "text": [
      "corrupt file\n",
      "Unable to convert the pixel data: one of Pixel Data, Float Pixel Data or Double Float Pixel Data must be present in the dataset\n"
     ]
    },
    {
     "name": "stderr",
     "output_type": "stream",
     "text": [
      " 15%|██████▏                                 | 892/5767 [10:51<35:23,  2.30it/s]"
     ]
    },
    {
     "name": "stdout",
     "output_type": "stream",
     "text": [
      "corrupt file\n",
      "Unable to convert the pixel data: one of Pixel Data, Float Pixel Data or Double Float Pixel Data must be present in the dataset\n"
     ]
    },
    {
     "name": "stderr",
     "output_type": "stream",
     "text": [
      " 16%|█████▉                                | 909/5767 [11:08<1:48:03,  1.33s/it]"
     ]
    },
    {
     "name": "stdout",
     "output_type": "stream",
     "text": [
      "corrupt file\n",
      "Unable to convert the pixel data: one of Pixel Data, Float Pixel Data or Double Float Pixel Data must be present in the dataset\n"
     ]
    },
    {
     "name": "stderr",
     "output_type": "stream",
     "text": [
      " 16%|██████▎                                 | 919/5767 [11:14<47:25,  1.70it/s]"
     ]
    },
    {
     "name": "stdout",
     "output_type": "stream",
     "text": [
      "corrupt file\n",
      "Unable to convert the pixel data: one of Pixel Data, Float Pixel Data or Double Float Pixel Data must be present in the dataset\n"
     ]
    },
    {
     "name": "stderr",
     "output_type": "stream",
     "text": [
      " 16%|██████▍                                 | 929/5767 [11:20<52:20,  1.54it/s]"
     ]
    },
    {
     "name": "stdout",
     "output_type": "stream",
     "text": [
      "corrupt file\n",
      "Unable to convert the pixel data: one of Pixel Data, Float Pixel Data or Double Float Pixel Data must be present in the dataset\n"
     ]
    },
    {
     "name": "stderr",
     "output_type": "stream",
     "text": [
      " 17%|██████▌                               | 994/5767 [12:25<3:07:39,  2.36s/it]"
     ]
    },
    {
     "name": "stdout",
     "output_type": "stream",
     "text": [
      "corrupt file\n",
      "Unable to convert the pixel data: one of Pixel Data, Float Pixel Data or Double Float Pixel Data must be present in the dataset\n"
     ]
    },
    {
     "name": "stderr",
     "output_type": "stream",
     "text": [
      " 19%|██████▊                              | 1070/5767 [14:14<1:23:51,  1.07s/it]"
     ]
    },
    {
     "name": "stdout",
     "output_type": "stream",
     "text": [
      "Error masking returned as is.\n",
      "corrupt file\n",
      "could not broadcast input array from shape (224,224) into shape (224,224,3)\n",
      "Error masking returned as is.\n",
      "corrupt file\n",
      "could not broadcast input array from shape (224,224) into shape (224,224,3)\n",
      "corrupt file\n",
      "Unable to convert the pixel data: one of Pixel Data, Float Pixel Data or Double Float Pixel Data must be present in the dataset\n"
     ]
    },
    {
     "name": "stderr",
     "output_type": "stream",
     "text": [
      " 19%|███████▎                               | 1074/5767 [14:15<38:40,  2.02it/s]"
     ]
    },
    {
     "name": "stdout",
     "output_type": "stream",
     "text": [
      "Error masking returned as is.\n",
      "corrupt file\n",
      "could not broadcast input array from shape (224,224) into shape (224,224,3)\n",
      "Error masking returned as is.\n",
      "corrupt file\n",
      "could not broadcast input array from shape (224,224) into shape (224,224,3)\n"
     ]
    },
    {
     "name": "stderr",
     "output_type": "stream",
     "text": [
      " 19%|███████▎                               | 1082/5767 [14:15<14:15,  5.48it/s]"
     ]
    },
    {
     "name": "stdout",
     "output_type": "stream",
     "text": [
      "Error masking returned as is.\n",
      "corrupt file\n",
      "could not broadcast input array from shape (224,224) into shape (224,224,3)\n",
      "Error masking returned as is.\n",
      "corrupt file\n",
      "could not broadcast input array from shape (224,224) into shape (224,224,3)\n"
     ]
    },
    {
     "name": "stderr",
     "output_type": "stream",
     "text": [
      " 19%|███████▎                               | 1084/5767 [14:15<12:47,  6.10it/s]"
     ]
    },
    {
     "name": "stdout",
     "output_type": "stream",
     "text": [
      "Error masking returned as is.\n",
      "corrupt file\n",
      "could not broadcast input array from shape (224,224) into shape (224,224,3)\n",
      "Error masking returned as is.\n",
      "corrupt file\n",
      "could not broadcast input array from shape (224,224) into shape (224,224,3)\n"
     ]
    },
    {
     "name": "stderr",
     "output_type": "stream",
     "text": [
      " 19%|███████▎                               | 1088/5767 [14:16<11:17,  6.91it/s]"
     ]
    },
    {
     "name": "stdout",
     "output_type": "stream",
     "text": [
      "Error masking returned as is.\n",
      "corrupt file\n",
      "could not broadcast input array from shape (224,224) into shape (224,224,3)\n"
     ]
    },
    {
     "name": "stderr",
     "output_type": "stream",
     "text": [
      " 19%|███████▍                               | 1104/5767 [14:30<42:35,  1.82it/s]"
     ]
    },
    {
     "name": "stdout",
     "output_type": "stream",
     "text": [
      "corrupt file\n",
      "Unable to convert the pixel data: one of Pixel Data, Float Pixel Data or Double Float Pixel Data must be present in the dataset\n"
     ]
    },
    {
     "name": "stderr",
     "output_type": "stream",
     "text": [
      " 19%|███████▏                             | 1115/5767 [14:50<2:28:24,  1.91s/it]"
     ]
    },
    {
     "name": "stdout",
     "output_type": "stream",
     "text": [
      "corrupt file\n",
      "Unable to convert the pixel data: one of Pixel Data, Float Pixel Data or Double Float Pixel Data must be present in the dataset\n"
     ]
    },
    {
     "name": "stderr",
     "output_type": "stream",
     "text": [
      " 20%|███████▍                             | 1153/5767 [15:51<1:28:20,  1.15s/it]"
     ]
    },
    {
     "name": "stdout",
     "output_type": "stream",
     "text": [
      "Error masking returned as is.\n",
      "corrupt file\n",
      "could not broadcast input array from shape (224,224) into shape (224,224,3)\n",
      "Error masking returned as is.\n",
      "corrupt file\n",
      "could not broadcast input array from shape (224,224) into shape (224,224,3)\n"
     ]
    },
    {
     "name": "stderr",
     "output_type": "stream",
     "text": [
      " 20%|███████▍                             | 1154/5767 [15:51<1:05:14,  1.18it/s]"
     ]
    },
    {
     "name": "stdout",
     "output_type": "stream",
     "text": [
      "Error masking returned as is.\n",
      "corrupt file\n",
      "could not broadcast input array from shape (224,224) into shape (224,224,3)\n"
     ]
    },
    {
     "name": "stderr",
     "output_type": "stream",
     "text": [
      " 20%|███████▊                               | 1155/5767 [15:52<50:27,  1.52it/s]"
     ]
    },
    {
     "name": "stdout",
     "output_type": "stream",
     "text": [
      "Error masking returned as is.\n",
      "corrupt file\n",
      "could not broadcast input array from shape (224,224) into shape (224,224,3)\n"
     ]
    },
    {
     "name": "stderr",
     "output_type": "stream",
     "text": [
      " 20%|███████▊                               | 1159/5767 [15:52<21:04,  3.64it/s]"
     ]
    },
    {
     "name": "stdout",
     "output_type": "stream",
     "text": [
      "Error masking returned as is.\n",
      "corrupt file\n",
      "could not broadcast input array from shape (224,224) into shape (224,224,3)\n",
      "corrupt file\n",
      "Unable to convert the pixel data: one of Pixel Data, Float Pixel Data or Double Float Pixel Data must be present in the dataset\n",
      "Error masking returned as is.\n",
      "corrupt file\n",
      "could not broadcast input array from shape (224,224) into shape (224,224,3)\n"
     ]
    },
    {
     "name": "stderr",
     "output_type": "stream",
     "text": [
      " 20%|███████▊                               | 1161/5767 [15:52<16:49,  4.56it/s]"
     ]
    },
    {
     "name": "stdout",
     "output_type": "stream",
     "text": [
      "Error masking returned as is.\n",
      "corrupt file\n",
      "could not broadcast input array from shape (224,224) into shape (224,224,3)\n",
      "Error masking returned as is.\n",
      "corrupt file\n",
      "could not broadcast input array from shape (224,224) into shape (224,224,3)\n"
     ]
    },
    {
     "name": "stderr",
     "output_type": "stream",
     "text": [
      " 20%|███████▊                               | 1164/5767 [15:53<12:03,  6.37it/s]"
     ]
    },
    {
     "name": "stdout",
     "output_type": "stream",
     "text": [
      "Error masking returned as is.\n",
      "corrupt file\n",
      "could not broadcast input array from shape (224,224) into shape (224,224,3)\n",
      "Error masking returned as is.\n",
      "corrupt file\n",
      "could not broadcast input array from shape (224,224) into shape (224,224,3)\n"
     ]
    },
    {
     "name": "stderr",
     "output_type": "stream",
     "text": [
      " 20%|███████▉                               | 1167/5767 [15:53<08:44,  8.77it/s]"
     ]
    },
    {
     "name": "stdout",
     "output_type": "stream",
     "text": [
      "Error masking returned as is.\n",
      "corrupt file\n",
      "could not broadcast input array from shape (224,224) into shape (224,224,3)\n",
      "Error masking returned as is.\n",
      "corrupt file\n",
      "could not broadcast input array from shape (224,224) into shape (224,224,3)\n"
     ]
    },
    {
     "name": "stderr",
     "output_type": "stream",
     "text": [
      " 20%|███████▉                               | 1170/5767 [15:53<09:30,  8.06it/s]"
     ]
    },
    {
     "name": "stdout",
     "output_type": "stream",
     "text": [
      "Error masking returned as is.\n",
      "corrupt file\n",
      "could not broadcast input array from shape (224,224) into shape (224,224,3)\n",
      "corrupt file\n",
      "Unable to convert the pixel data: one of Pixel Data, Float Pixel Data or Double Float Pixel Data must be present in the dataset\n"
     ]
    },
    {
     "name": "stderr",
     "output_type": "stream",
     "text": [
      " 21%|████████▎                              | 1224/5767 [16:32<34:51,  2.17it/s]"
     ]
    },
    {
     "name": "stdout",
     "output_type": "stream",
     "text": [
      "corrupt file\n",
      "Unable to convert the pixel data: one of Pixel Data, Float Pixel Data or Double Float Pixel Data must be present in the dataset\n"
     ]
    },
    {
     "name": "stderr",
     "output_type": "stream",
     "text": [
      " 22%|████████▏                            | 1267/5767 [17:53<1:50:48,  1.48s/it]"
     ]
    },
    {
     "name": "stdout",
     "output_type": "stream",
     "text": [
      "corrupt file\n",
      "Unable to convert the pixel data: one of Pixel Data, Float Pixel Data or Double Float Pixel Data must be present in the dataset\n"
     ]
    },
    {
     "name": "stderr",
     "output_type": "stream",
     "text": [
      " 24%|████████▊                            | 1370/5767 [22:20<2:36:09,  2.13s/it]"
     ]
    },
    {
     "name": "stdout",
     "output_type": "stream",
     "text": [
      "Error masking returned as is.\n",
      "corrupt file\n",
      "could not broadcast input array from shape (224,224) into shape (224,224,3)\n"
     ]
    },
    {
     "name": "stderr",
     "output_type": "stream",
     "text": [
      " 24%|████████▊                            | 1372/5767 [22:20<1:32:24,  1.26s/it]"
     ]
    },
    {
     "name": "stdout",
     "output_type": "stream",
     "text": [
      "Error masking returned as is.\n",
      "corrupt file\n",
      "could not broadcast input array from shape (224,224) into shape (224,224,3)\n",
      "Error masking returned as is.\n",
      "corrupt file\n",
      "could not broadcast input array from shape (224,224) into shape (224,224,3)\n"
     ]
    },
    {
     "name": "stderr",
     "output_type": "stream",
     "text": [
      " 24%|████████▊                            | 1373/5767 [22:20<1:11:05,  1.03it/s]"
     ]
    },
    {
     "name": "stdout",
     "output_type": "stream",
     "text": [
      "Error masking returned as is.\n",
      "corrupt file\n",
      "could not broadcast input array from shape (224,224) into shape (224,224,3)\n"
     ]
    },
    {
     "name": "stderr",
     "output_type": "stream",
     "text": [
      " 24%|█████████▎                             | 1378/5767 [22:21<27:27,  2.66it/s]"
     ]
    },
    {
     "name": "stdout",
     "output_type": "stream",
     "text": [
      "Error masking returned as is.\n",
      "corrupt file\n",
      "could not broadcast input array from shape (224,224) into shape (224,224,3)\n",
      "Error masking returned as is.\n",
      "corrupt file\n",
      "could not broadcast input array from shape (224,224) into shape (224,224,3)\n"
     ]
    },
    {
     "name": "stderr",
     "output_type": "stream",
     "text": [
      " 24%|█████████▎                             | 1381/5767 [22:21<18:39,  3.92it/s]"
     ]
    },
    {
     "name": "stdout",
     "output_type": "stream",
     "text": [
      "Error masking returned as is.\n",
      "corrupt file\n",
      "could not broadcast input array from shape (224,224) into shape (224,224,3)\n"
     ]
    },
    {
     "name": "stderr",
     "output_type": "stream",
     "text": [
      " 24%|█████████▎                             | 1384/5767 [22:21<15:08,  4.83it/s]"
     ]
    },
    {
     "name": "stdout",
     "output_type": "stream",
     "text": [
      "Error masking returned as is.\n",
      "corrupt file\n",
      "could not broadcast input array from shape (224,224) into shape (224,224,3)\n",
      "Error masking returned as is.\n",
      "corrupt file\n",
      "could not broadcast input array from shape (224,224) into shape (224,224,3)\n"
     ]
    },
    {
     "name": "stderr",
     "output_type": "stream",
     "text": [
      " 24%|█████████▍                             | 1387/5767 [22:22<13:26,  5.43it/s]"
     ]
    },
    {
     "name": "stdout",
     "output_type": "stream",
     "text": [
      "Error masking returned as is.\n",
      "corrupt file\n",
      "could not broadcast input array from shape (224,224) into shape (224,224,3)\n",
      "Error masking returned as is.\n",
      "corrupt file\n",
      "could not broadcast input array from shape (224,224) into shape (224,224,3)\n"
     ]
    },
    {
     "name": "stderr",
     "output_type": "stream",
     "text": [
      " 24%|█████████▍                             | 1390/5767 [22:22<11:03,  6.59it/s]"
     ]
    },
    {
     "name": "stdout",
     "output_type": "stream",
     "text": [
      "Error masking returned as is.\n",
      "corrupt file\n",
      "could not broadcast input array from shape (224,224) into shape (224,224,3)\n",
      "Error masking returned as is.\n",
      "corrupt file\n",
      "could not broadcast input array from shape (224,224) into shape (224,224,3)\n"
     ]
    },
    {
     "name": "stderr",
     "output_type": "stream",
     "text": [
      " 24%|█████████▍                             | 1393/5767 [22:22<07:25,  9.81it/s]"
     ]
    },
    {
     "name": "stdout",
     "output_type": "stream",
     "text": [
      "Error masking returned as is.\n",
      "corrupt file\n",
      "could not broadcast input array from shape (224,224) into shape (224,224,3)\n",
      "Error masking returned as is.\n",
      "corrupt file\n",
      "could not broadcast input array from shape (224,224) into shape (224,224,3)\n"
     ]
    },
    {
     "name": "stderr",
     "output_type": "stream",
     "text": [
      " 24%|█████████▍                             | 1397/5767 [22:23<07:07, 10.22it/s]"
     ]
    },
    {
     "name": "stdout",
     "output_type": "stream",
     "text": [
      "Error masking returned as is.\n",
      "corrupt file\n",
      "could not broadcast input array from shape (224,224) into shape (224,224,3)\n",
      "Error masking returned as is.\n",
      "corrupt file\n",
      "could not broadcast input array from shape (224,224) into shape (224,224,3)\n"
     ]
    },
    {
     "name": "stderr",
     "output_type": "stream",
     "text": [
      " 24%|█████████▍                             | 1401/5767 [22:23<06:13, 11.69it/s]"
     ]
    },
    {
     "name": "stdout",
     "output_type": "stream",
     "text": [
      "Error masking returned as is.\n",
      "corrupt file\n",
      "could not broadcast input array from shape (224,224) into shape (224,224,3)\n",
      "Error masking returned as is.\n",
      "corrupt file\n",
      "could not broadcast input array from shape (224,224) into shape (224,224,3)\n"
     ]
    },
    {
     "name": "stderr",
     "output_type": "stream",
     "text": [
      " 24%|█████████▍                             | 1403/5767 [22:23<08:15,  8.80it/s]"
     ]
    },
    {
     "name": "stdout",
     "output_type": "stream",
     "text": [
      "Error masking returned as is.\n",
      "corrupt file\n",
      "could not broadcast input array from shape (224,224) into shape (224,224,3)\n",
      "Error masking returned as is.\n",
      "corrupt file\n",
      "could not broadcast input array from shape (224,224) into shape (224,224,3)\n"
     ]
    },
    {
     "name": "stderr",
     "output_type": "stream",
     "text": [
      " 24%|█████████▌                             | 1409/5767 [22:24<07:02, 10.32it/s]"
     ]
    },
    {
     "name": "stdout",
     "output_type": "stream",
     "text": [
      "Error masking returned as is.\n",
      "corrupt file\n",
      "could not broadcast input array from shape (224,224) into shape (224,224,3)\n",
      "Error masking returned as is.\n",
      "corrupt file\n",
      "could not broadcast input array from shape (224,224) into shape (224,224,3)\n",
      "Error masking returned as is.\n",
      "corrupt file\n",
      "could not broadcast input array from shape (224,224) into shape (224,224,3)\n",
      "Error masking returned as is.\n",
      "corrupt file\n",
      "could not broadcast input array from shape (224,224) into shape (224,224,3)\n"
     ]
    },
    {
     "name": "stderr",
     "output_type": "stream",
     "text": [
      " 24%|█████████▌                             | 1411/5767 [22:24<09:33,  7.59it/s]"
     ]
    },
    {
     "name": "stdout",
     "output_type": "stream",
     "text": [
      "Error masking returned as is.\n",
      "corrupt file\n",
      "could not broadcast input array from shape (224,224) into shape (224,224,3)\n"
     ]
    },
    {
     "name": "stderr",
     "output_type": "stream",
     "text": [
      " 24%|█████████▌                             | 1412/5767 [22:24<10:25,  6.96it/s]"
     ]
    },
    {
     "name": "stdout",
     "output_type": "stream",
     "text": [
      "Error masking returned as is.\n",
      "corrupt file\n",
      "could not broadcast input array from shape (224,224) into shape (224,224,3)\n"
     ]
    },
    {
     "name": "stderr",
     "output_type": "stream",
     "text": [
      " 25%|█████████▌                             | 1414/5767 [22:25<12:24,  5.85it/s]"
     ]
    },
    {
     "name": "stdout",
     "output_type": "stream",
     "text": [
      "Error masking returned as is.\n",
      "corrupt file\n",
      "could not broadcast input array from shape (224,224) into shape (224,224,3)\n",
      "Error masking returned as is.\n",
      "corrupt file\n",
      "could not broadcast input array from shape (224,224) into shape (224,224,3)\n"
     ]
    },
    {
     "name": "stderr",
     "output_type": "stream",
     "text": [
      " 25%|█████████▌                             | 1416/5767 [22:25<11:48,  6.14it/s]"
     ]
    },
    {
     "name": "stdout",
     "output_type": "stream",
     "text": [
      "Error masking returned as is.\n",
      "corrupt file\n",
      "could not broadcast input array from shape (224,224) into shape (224,224,3)\n",
      "Error masking returned as is.\n",
      "corrupt file\n",
      "could not broadcast input array from shape (224,224) into shape (224,224,3)\n"
     ]
    },
    {
     "name": "stderr",
     "output_type": "stream",
     "text": [
      " 25%|█████████▌                             | 1421/5767 [22:26<08:56,  8.10it/s]"
     ]
    },
    {
     "name": "stdout",
     "output_type": "stream",
     "text": [
      "Error masking returned as is.\n",
      "corrupt file\n",
      "could not broadcast input array from shape (224,224) into shape (224,224,3)\n",
      "Error masking returned as is.\n",
      "corrupt file\n",
      "could not broadcast input array from shape (224,224) into shape (224,224,3)\n"
     ]
    },
    {
     "name": "stderr",
     "output_type": "stream",
     "text": [
      " 25%|█████████▋                             | 1424/5767 [22:26<08:01,  9.01it/s]"
     ]
    },
    {
     "name": "stdout",
     "output_type": "stream",
     "text": [
      "Error masking returned as is.\n",
      "corrupt file\n",
      "could not broadcast input array from shape (224,224) into shape (224,224,3)\n",
      "Error masking returned as is.\n",
      "corrupt file\n",
      "could not broadcast input array from shape (224,224) into shape (224,224,3)\n"
     ]
    },
    {
     "name": "stderr",
     "output_type": "stream",
     "text": [
      " 25%|█████████▋                             | 1427/5767 [22:26<07:02, 10.28it/s]"
     ]
    },
    {
     "name": "stdout",
     "output_type": "stream",
     "text": [
      "Error masking returned as is.\n",
      "corrupt file\n",
      "could not broadcast input array from shape (224,224) into shape (224,224,3)\n",
      "Error masking returned as is.\n",
      "corrupt file\n",
      "could not broadcast input array from shape (224,224) into shape (224,224,3)\n"
     ]
    },
    {
     "name": "stderr",
     "output_type": "stream",
     "text": [
      " 25%|█████████▋                             | 1429/5767 [22:27<08:24,  8.60it/s]"
     ]
    },
    {
     "name": "stdout",
     "output_type": "stream",
     "text": [
      "Error masking returned as is.\n",
      "corrupt file\n",
      "could not broadcast input array from shape (224,224) into shape (224,224,3)\n",
      "Error masking returned as is.\n",
      "corrupt file\n",
      "could not broadcast input array from shape (224,224) into shape (224,224,3)\n"
     ]
    },
    {
     "name": "stderr",
     "output_type": "stream",
     "text": [
      " 25%|█████████▋                             | 1434/5767 [22:27<06:13, 11.61it/s]"
     ]
    },
    {
     "name": "stdout",
     "output_type": "stream",
     "text": [
      "Error masking returned as is.\n",
      "corrupt file\n",
      "could not broadcast input array from shape (224,224) into shape (224,224,3)\n",
      "corrupt file\n",
      "Unable to convert the pixel data: one of Pixel Data, Float Pixel Data or Double Float Pixel Data must be present in the dataset\n",
      "Error masking returned as is.\n",
      "corrupt file\n",
      "could not broadcast input array from shape (224,224) into shape (224,224,3)\n"
     ]
    },
    {
     "name": "stderr",
     "output_type": "stream",
     "text": [
      " 25%|█████████▋                             | 1436/5767 [22:27<06:09, 11.71it/s]"
     ]
    },
    {
     "name": "stdout",
     "output_type": "stream",
     "text": [
      "Error masking returned as is.\n",
      "corrupt file\n",
      "could not broadcast input array from shape (224,224) into shape (224,224,3)\n"
     ]
    },
    {
     "name": "stderr",
     "output_type": "stream",
     "text": [
      " 25%|█████████▋                             | 1439/5767 [22:27<05:52, 12.27it/s]"
     ]
    },
    {
     "name": "stdout",
     "output_type": "stream",
     "text": [
      "Error masking returned as is.\n",
      "corrupt file\n",
      "could not broadcast input array from shape (224,224) into shape (224,224,3)\n",
      "Error masking returned as is.\n",
      "corrupt file\n",
      "could not broadcast input array from shape (224,224) into shape (224,224,3)\n"
     ]
    },
    {
     "name": "stderr",
     "output_type": "stream",
     "text": [
      " 25%|█████████▊                             | 1443/5767 [22:28<07:46,  9.27it/s]"
     ]
    },
    {
     "name": "stdout",
     "output_type": "stream",
     "text": [
      "Error masking returned as is.\n",
      "corrupt file\n",
      "could not broadcast input array from shape (224,224) into shape (224,224,3)\n",
      "Error masking returned as is.\n",
      "corrupt file\n",
      "could not broadcast input array from shape (224,224) into shape (224,224,3)\n"
     ]
    },
    {
     "name": "stderr",
     "output_type": "stream",
     "text": [
      " 25%|█████████▊                             | 1449/5767 [22:28<05:11, 13.87it/s]"
     ]
    },
    {
     "name": "stdout",
     "output_type": "stream",
     "text": [
      "Error masking returned as is.\n",
      "corrupt file\n",
      "could not broadcast input array from shape (224,224) into shape (224,224,3)\n",
      "Error masking returned as is.\n",
      "corrupt file\n",
      "could not broadcast input array from shape (224,224) into shape (224,224,3)\n"
     ]
    },
    {
     "name": "stderr",
     "output_type": "stream",
     "text": [
      " 25%|█████████▊                             | 1451/5767 [22:29<07:11, 10.01it/s]"
     ]
    },
    {
     "name": "stdout",
     "output_type": "stream",
     "text": [
      "Error masking returned as is.\n",
      "corrupt file\n",
      "could not broadcast input array from shape (224,224) into shape (224,224,3)\n"
     ]
    },
    {
     "name": "stderr",
     "output_type": "stream",
     "text": [
      " 25%|█████████▍                           | 1465/5767 [22:48<1:42:25,  1.43s/it]"
     ]
    },
    {
     "name": "stdout",
     "output_type": "stream",
     "text": [
      "corrupt file\n",
      "Unable to convert the pixel data: one of Pixel Data, Float Pixel Data or Double Float Pixel Data must be present in the dataset\n"
     ]
    },
    {
     "name": "stderr",
     "output_type": "stream",
     "text": [
      " 26%|█████████▍                           | 1475/5767 [22:56<1:44:04,  1.45s/it]"
     ]
    },
    {
     "name": "stdout",
     "output_type": "stream",
     "text": [
      "corrupt file\n",
      "Unable to convert the pixel data: one of Pixel Data, Float Pixel Data or Double Float Pixel Data must be present in the dataset\n"
     ]
    },
    {
     "name": "stderr",
     "output_type": "stream",
     "text": [
      " 27%|█████████▊                           | 1537/5767 [24:02<1:14:58,  1.06s/it]"
     ]
    },
    {
     "name": "stdout",
     "output_type": "stream",
     "text": [
      "corrupt file\n",
      "Unable to convert the pixel data: one of Pixel Data, Float Pixel Data or Double Float Pixel Data must be present in the dataset\n"
     ]
    },
    {
     "name": "stderr",
     "output_type": "stream",
     "text": [
      " 28%|██████████▉                            | 1616/5767 [25:42<45:42,  1.51it/s]"
     ]
    },
    {
     "name": "stdout",
     "output_type": "stream",
     "text": [
      "corrupt file\n",
      "Unable to convert the pixel data: one of Pixel Data, Float Pixel Data or Double Float Pixel Data must be present in the dataset\n"
     ]
    },
    {
     "name": "stderr",
     "output_type": "stream",
     "text": [
      " 28%|███████████                            | 1643/5767 [26:11<32:50,  2.09it/s]"
     ]
    },
    {
     "name": "stdout",
     "output_type": "stream",
     "text": [
      "Error masking returned as is.\n",
      "corrupt file\n",
      "could not broadcast input array from shape (224,224) into shape (224,224,3)\n",
      "corrupt file\n",
      "Unable to convert the pixel data: one of Pixel Data, Float Pixel Data or Double Float Pixel Data must be present in the dataset\n"
     ]
    },
    {
     "name": "stderr",
     "output_type": "stream",
     "text": [
      " 29%|███████████▏                           | 1646/5767 [26:11<19:02,  3.61it/s]"
     ]
    },
    {
     "name": "stdout",
     "output_type": "stream",
     "text": [
      "Error masking returned as is.\n",
      "corrupt file\n",
      "could not broadcast input array from shape (224,224) into shape (224,224,3)\n"
     ]
    },
    {
     "name": "stderr",
     "output_type": "stream",
     "text": [
      " 29%|███████████▏                           | 1647/5767 [26:11<18:22,  3.74it/s]"
     ]
    },
    {
     "name": "stdout",
     "output_type": "stream",
     "text": [
      "Error masking returned as is.\n",
      "corrupt file\n",
      "could not broadcast input array from shape (224,224) into shape (224,224,3)\n"
     ]
    },
    {
     "name": "stderr",
     "output_type": "stream",
     "text": [
      " 29%|███████████▏                           | 1650/5767 [26:11<13:32,  5.07it/s]"
     ]
    },
    {
     "name": "stdout",
     "output_type": "stream",
     "text": [
      "Error masking returned as is.\n",
      "corrupt file\n",
      "could not broadcast input array from shape (224,224) into shape (224,224,3)\n",
      "Error masking returned as is.\n",
      "corrupt file\n",
      "could not broadcast input array from shape (224,224) into shape (224,224,3)\n"
     ]
    },
    {
     "name": "stderr",
     "output_type": "stream",
     "text": [
      " 29%|███████████▏                           | 1652/5767 [26:12<13:13,  5.19it/s]"
     ]
    },
    {
     "name": "stdout",
     "output_type": "stream",
     "text": [
      "Error masking returned as is.\n",
      "corrupt file\n",
      "could not broadcast input array from shape (224,224) into shape (224,224,3)\n",
      "Error masking returned as is.\n",
      "corrupt file\n",
      "could not broadcast input array from shape (224,224) into shape (224,224,3)\n"
     ]
    },
    {
     "name": "stderr",
     "output_type": "stream",
     "text": [
      " 29%|███████████▏                           | 1656/5767 [26:12<08:57,  7.64it/s]"
     ]
    },
    {
     "name": "stdout",
     "output_type": "stream",
     "text": [
      "Error masking returned as is.\n",
      "corrupt file\n",
      "could not broadcast input array from shape (224,224) into shape (224,224,3)\n",
      "Error masking returned as is.\n",
      "corrupt file\n",
      "could not broadcast input array from shape (224,224) into shape (224,224,3)\n"
     ]
    },
    {
     "name": "stderr",
     "output_type": "stream",
     "text": [
      " 29%|███████████▏                           | 1657/5767 [26:12<09:23,  7.29it/s]"
     ]
    },
    {
     "name": "stdout",
     "output_type": "stream",
     "text": [
      "Error masking returned as is.\n",
      "corrupt file\n",
      "could not broadcast input array from shape (224,224) into shape (224,224,3)\n"
     ]
    },
    {
     "name": "stderr",
     "output_type": "stream",
     "text": [
      " 29%|███████████▎                           | 1679/5767 [26:31<43:16,  1.57it/s]"
     ]
    },
    {
     "name": "stdout",
     "output_type": "stream",
     "text": [
      "corrupt file\n",
      "Unable to convert the pixel data: one of Pixel Data, Float Pixel Data or Double Float Pixel Data must be present in the dataset\n"
     ]
    },
    {
     "name": "stderr",
     "output_type": "stream",
     "text": [
      " 29%|███████████▍                           | 1688/5767 [26:36<30:50,  2.20it/s]"
     ]
    },
    {
     "name": "stdout",
     "output_type": "stream",
     "text": [
      "corrupt file\n",
      "Unable to convert the pixel data: one of Pixel Data, Float Pixel Data or Double Float Pixel Data must be present in the dataset\n"
     ]
    },
    {
     "name": "stderr",
     "output_type": "stream",
     "text": [
      " 30%|███████████▊                           | 1739/5767 [27:30<15:43,  4.27it/s]"
     ]
    },
    {
     "name": "stdout",
     "output_type": "stream",
     "text": [
      "corrupt file\n",
      "Unable to convert the pixel data: one of Pixel Data, Float Pixel Data or Double Float Pixel Data must be present in the dataset\n"
     ]
    },
    {
     "name": "stderr",
     "output_type": "stream",
     "text": [
      " 30%|███████████▊                           | 1754/5767 [27:35<22:42,  2.95it/s]"
     ]
    },
    {
     "name": "stdout",
     "output_type": "stream",
     "text": [
      "corrupt file\n",
      "Unable to convert the pixel data: one of Pixel Data, Float Pixel Data or Double Float Pixel Data must be present in the dataset\n"
     ]
    },
    {
     "name": "stderr",
     "output_type": "stream",
     "text": [
      " 31%|███████████▉                           | 1759/5767 [27:37<28:33,  2.34it/s]"
     ]
    },
    {
     "name": "stdout",
     "output_type": "stream",
     "text": [
      "corrupt file\n",
      "Unable to convert the pixel data: one of Pixel Data, Float Pixel Data or Double Float Pixel Data must be present in the dataset\n"
     ]
    },
    {
     "name": "stderr",
     "output_type": "stream",
     "text": [
      " 31%|████████████                           | 1788/5767 [27:49<27:52,  2.38it/s]"
     ]
    },
    {
     "name": "stdout",
     "output_type": "stream",
     "text": [
      "corrupt file\n",
      "Unable to convert the pixel data: one of Pixel Data, Float Pixel Data or Double Float Pixel Data must be present in the dataset\n"
     ]
    },
    {
     "name": "stderr",
     "output_type": "stream",
     "text": [
      " 33%|████████████▊                          | 1891/5767 [28:45<23:09,  2.79it/s]"
     ]
    },
    {
     "name": "stdout",
     "output_type": "stream",
     "text": [
      "corrupt file\n",
      "Unable to convert the pixel data: one of Pixel Data, Float Pixel Data or Double Float Pixel Data must be present in the dataset\n"
     ]
    },
    {
     "name": "stderr",
     "output_type": "stream",
     "text": [
      " 33%|█████████████                          | 1929/5767 [29:17<35:01,  1.83it/s]"
     ]
    },
    {
     "name": "stdout",
     "output_type": "stream",
     "text": [
      "corrupt file\n",
      "Unable to convert the pixel data: one of Pixel Data, Float Pixel Data or Double Float Pixel Data must be present in the dataset\n"
     ]
    },
    {
     "name": "stderr",
     "output_type": "stream",
     "text": [
      " 37%|██████████████▍                        | 2130/5767 [31:24<40:36,  1.49it/s]"
     ]
    },
    {
     "name": "stdout",
     "output_type": "stream",
     "text": [
      "corrupt file\n",
      "Unable to convert the pixel data: one of Pixel Data, Float Pixel Data or Double Float Pixel Data must be present in the dataset\n"
     ]
    },
    {
     "name": "stderr",
     "output_type": "stream",
     "text": [
      " 38%|██████████████▋                        | 2179/5767 [31:55<59:06,  1.01it/s]"
     ]
    },
    {
     "name": "stdout",
     "output_type": "stream",
     "text": [
      "corrupt file\n",
      "Unable to convert the pixel data: one of Pixel Data, Float Pixel Data or Double Float Pixel Data must be present in the dataset\n"
     ]
    },
    {
     "name": "stderr",
     "output_type": "stream",
     "text": [
      " 38%|██████████████▊                        | 2197/5767 [32:06<11:28,  5.18it/s]"
     ]
    },
    {
     "name": "stdout",
     "output_type": "stream",
     "text": [
      "corrupt file\n",
      "Unable to convert the pixel data: one of Pixel Data, Float Pixel Data or Double Float Pixel Data must be present in the dataset\n"
     ]
    },
    {
     "name": "stderr",
     "output_type": "stream",
     "text": [
      " 38%|██████████████▉                        | 2204/5767 [32:06<06:30,  9.12it/s]"
     ]
    },
    {
     "name": "stdout",
     "output_type": "stream",
     "text": [
      "corrupt file\n",
      "Unable to convert the pixel data: one of Pixel Data, Float Pixel Data or Double Float Pixel Data must be present in the dataset\n"
     ]
    },
    {
     "name": "stderr",
     "output_type": "stream",
     "text": [
      " 38%|██████████████▉                        | 2212/5767 [32:07<05:41, 10.41it/s]"
     ]
    },
    {
     "name": "stdout",
     "output_type": "stream",
     "text": [
      "corrupt file\n",
      "Unable to convert the pixel data: one of Pixel Data, Float Pixel Data or Double Float Pixel Data must be present in the dataset\n"
     ]
    },
    {
     "name": "stderr",
     "output_type": "stream",
     "text": [
      " 39%|███████████████                        | 2233/5767 [32:09<06:51,  8.58it/s]"
     ]
    },
    {
     "name": "stdout",
     "output_type": "stream",
     "text": [
      "Error masking returned as is.\n",
      "corrupt file\n",
      "could not broadcast input array from shape (224,224) into shape (224,224,3)\n",
      "Error masking returned as is.\n",
      "corrupt file\n",
      "could not broadcast input array from shape (224,224) into shape (224,224,3)\n"
     ]
    },
    {
     "name": "stderr",
     "output_type": "stream",
     "text": [
      " 39%|███████████████                        | 2236/5767 [32:10<05:31, 10.66it/s]"
     ]
    },
    {
     "name": "stdout",
     "output_type": "stream",
     "text": [
      "corrupt file\n",
      "Unable to convert the pixel data: one of Pixel Data, Float Pixel Data or Double Float Pixel Data must be present in the dataset\n",
      "Error masking returned as is.\n",
      "corrupt file\n",
      "could not broadcast input array from shape (224,224) into shape (224,224,3)\n"
     ]
    },
    {
     "name": "stderr",
     "output_type": "stream",
     "text": [
      " 39%|███████████████▏                       | 2238/5767 [32:10<05:24, 10.88it/s]"
     ]
    },
    {
     "name": "stdout",
     "output_type": "stream",
     "text": [
      "Error masking returned as is.\n",
      "corrupt file\n",
      "could not broadcast input array from shape (224,224) into shape (224,224,3)\n",
      "Error masking returned as is.\n",
      "corrupt file\n",
      "could not broadcast input array from shape (224,224) into shape (224,224,3)\n"
     ]
    },
    {
     "name": "stderr",
     "output_type": "stream",
     "text": [
      " 39%|███████████████▏                       | 2242/5767 [32:10<06:04,  9.67it/s]"
     ]
    },
    {
     "name": "stdout",
     "output_type": "stream",
     "text": [
      "Error masking returned as is.\n",
      "corrupt file\n",
      "could not broadcast input array from shape (224,224) into shape (224,224,3)\n",
      "Error masking returned as is.\n",
      "corrupt file\n",
      "could not broadcast input array from shape (224,224) into shape (224,224,3)\n"
     ]
    },
    {
     "name": "stderr",
     "output_type": "stream",
     "text": [
      " 39%|███████████████▏                       | 2244/5767 [32:10<06:29,  9.06it/s]"
     ]
    },
    {
     "name": "stdout",
     "output_type": "stream",
     "text": [
      "Error masking returned as is.\n",
      "corrupt file\n",
      "could not broadcast input array from shape (224,224) into shape (224,224,3)\n",
      "Error masking returned as is.\n",
      "corrupt file\n",
      "could not broadcast input array from shape (224,224) into shape (224,224,3)\n"
     ]
    },
    {
     "name": "stderr",
     "output_type": "stream",
     "text": [
      " 39%|███████████████▏                       | 2248/5767 [32:11<05:30, 10.64it/s]"
     ]
    },
    {
     "name": "stdout",
     "output_type": "stream",
     "text": [
      "Error masking returned as is.\n",
      "corrupt file\n",
      "could not broadcast input array from shape (224,224) into shape (224,224,3)\n",
      "Error masking returned as is.\n",
      "corrupt file\n",
      "could not broadcast input array from shape (224,224) into shape (224,224,3)\n"
     ]
    },
    {
     "name": "stderr",
     "output_type": "stream",
     "text": [
      " 40%|███████████████▌                       | 2300/5767 [32:40<26:38,  2.17it/s]"
     ]
    },
    {
     "name": "stdout",
     "output_type": "stream",
     "text": [
      "corrupt file\n",
      "Unable to convert the pixel data: one of Pixel Data, Float Pixel Data or Double Float Pixel Data must be present in the dataset\n"
     ]
    },
    {
     "name": "stderr",
     "output_type": "stream",
     "text": [
      " 40%|███████████████▋                       | 2318/5767 [32:48<21:14,  2.71it/s]"
     ]
    },
    {
     "name": "stdout",
     "output_type": "stream",
     "text": [
      "corrupt file\n",
      "Unable to convert the pixel data: one of Pixel Data, Float Pixel Data or Double Float Pixel Data must be present in the dataset\n",
      "corrupt file\n",
      "Unable to convert the pixel data: one of Pixel Data, Float Pixel Data or Double Float Pixel Data must be present in the dataset\n"
     ]
    },
    {
     "name": "stderr",
     "output_type": "stream",
     "text": [
      " 42%|████████████████▏                      | 2402/5767 [33:36<28:12,  1.99it/s]"
     ]
    },
    {
     "name": "stdout",
     "output_type": "stream",
     "text": [
      "corrupt file\n",
      "Unable to convert the pixel data: one of Pixel Data, Float Pixel Data or Double Float Pixel Data must be present in the dataset\n"
     ]
    },
    {
     "name": "stderr",
     "output_type": "stream",
     "text": [
      " 42%|████████████████▎                      | 2409/5767 [33:37<14:21,  3.90it/s]"
     ]
    },
    {
     "name": "stdout",
     "output_type": "stream",
     "text": [
      "corrupt file\n",
      "Unable to convert the pixel data: one of Pixel Data, Float Pixel Data or Double Float Pixel Data must be present in the dataset\n"
     ]
    },
    {
     "name": "stderr",
     "output_type": "stream",
     "text": [
      " 43%|████████████████▊                      | 2490/5767 [34:32<31:10,  1.75it/s]"
     ]
    },
    {
     "name": "stdout",
     "output_type": "stream",
     "text": [
      "corrupt file\n",
      "Unable to convert the pixel data: one of Pixel Data, Float Pixel Data or Double Float Pixel Data must be present in the dataset\n"
     ]
    },
    {
     "name": "stderr",
     "output_type": "stream",
     "text": [
      " 44%|█████████████████                      | 2515/5767 [34:47<26:33,  2.04it/s]"
     ]
    },
    {
     "name": "stdout",
     "output_type": "stream",
     "text": [
      "corrupt file\n",
      "Unable to convert the pixel data: one of Pixel Data, Float Pixel Data or Double Float Pixel Data must be present in the dataset\n"
     ]
    },
    {
     "name": "stderr",
     "output_type": "stream",
     "text": [
      " 45%|█████████████████▍                     | 2573/5767 [35:33<26:23,  2.02it/s]"
     ]
    },
    {
     "name": "stdout",
     "output_type": "stream",
     "text": [
      "Error masking returned as is.\n",
      "corrupt file\n",
      "could not broadcast input array from shape (224,224) into shape (224,224,3)\n"
     ]
    },
    {
     "name": "stderr",
     "output_type": "stream",
     "text": [
      " 45%|█████████████████▍                     | 2575/5767 [35:34<21:05,  2.52it/s]"
     ]
    },
    {
     "name": "stdout",
     "output_type": "stream",
     "text": [
      "Error masking returned as is.\n",
      "corrupt file\n",
      "could not broadcast input array from shape (224,224) into shape (224,224,3)\n",
      "Error masking returned as is.\n",
      "corrupt file\n",
      "could not broadcast input array from shape (224,224) into shape (224,224,3)\n",
      "corrupt file\n",
      "Unable to convert the pixel data: one of Pixel Data, Float Pixel Data or Double Float Pixel Data must be present in the dataset\n"
     ]
    },
    {
     "name": "stderr",
     "output_type": "stream",
     "text": [
      " 45%|█████████████████▋                     | 2619/5767 [35:47<14:34,  3.60it/s]"
     ]
    },
    {
     "name": "stdout",
     "output_type": "stream",
     "text": [
      "corrupt file\n",
      "Unable to convert the pixel data: one of Pixel Data, Float Pixel Data or Double Float Pixel Data must be present in the dataset\n"
     ]
    },
    {
     "name": "stderr",
     "output_type": "stream",
     "text": [
      " 46%|█████████████████▊                     | 2631/5767 [35:48<05:30,  9.49it/s]"
     ]
    },
    {
     "name": "stdout",
     "output_type": "stream",
     "text": [
      "corrupt file\n",
      "Unable to convert the pixel data: one of Pixel Data, Float Pixel Data or Double Float Pixel Data must be present in the dataset\n",
      "corrupt file\n",
      "Unable to convert the pixel data: one of Pixel Data, Float Pixel Data or Double Float Pixel Data must be present in the dataset\n"
     ]
    },
    {
     "name": "stderr",
     "output_type": "stream",
     "text": [
      " 46%|█████████████████▉                     | 2644/5767 [35:51<09:39,  5.39it/s]"
     ]
    },
    {
     "name": "stdout",
     "output_type": "stream",
     "text": [
      "corrupt file\n",
      "Unable to convert the pixel data: one of Pixel Data, Float Pixel Data or Double Float Pixel Data must be present in the dataset\n"
     ]
    },
    {
     "name": "stderr",
     "output_type": "stream",
     "text": [
      " 46%|██████████████████                     | 2671/5767 [36:03<28:47,  1.79it/s]"
     ]
    },
    {
     "name": "stdout",
     "output_type": "stream",
     "text": [
      "corrupt file\n",
      "Unable to convert the pixel data: one of Pixel Data, Float Pixel Data or Double Float Pixel Data must be present in the dataset\n"
     ]
    },
    {
     "name": "stderr",
     "output_type": "stream",
     "text": [
      " 48%|██████████████████▌                    | 2754/5767 [36:46<17:07,  2.93it/s]"
     ]
    },
    {
     "name": "stdout",
     "output_type": "stream",
     "text": [
      "corrupt file\n",
      "Unable to convert the pixel data: one of Pixel Data, Float Pixel Data or Double Float Pixel Data must be present in the dataset\n"
     ]
    },
    {
     "name": "stderr",
     "output_type": "stream",
     "text": [
      " 48%|██████████████████▊                    | 2785/5767 [37:02<17:29,  2.84it/s]"
     ]
    },
    {
     "name": "stdout",
     "output_type": "stream",
     "text": [
      "corrupt file\n",
      "Unable to convert the pixel data: one of Pixel Data, Float Pixel Data or Double Float Pixel Data must be present in the dataset\n"
     ]
    },
    {
     "name": "stderr",
     "output_type": "stream",
     "text": [
      " 50%|███████████████████▍                   | 2882/5767 [37:58<20:30,  2.34it/s]"
     ]
    },
    {
     "name": "stdout",
     "output_type": "stream",
     "text": [
      "corrupt file\n",
      "Unable to convert the pixel data: one of Pixel Data, Float Pixel Data or Double Float Pixel Data must be present in the dataset\n"
     ]
    },
    {
     "name": "stderr",
     "output_type": "stream",
     "text": [
      " 52%|████████████████████▏                  | 2982/5767 [39:19<28:20,  1.64it/s]"
     ]
    },
    {
     "name": "stdout",
     "output_type": "stream",
     "text": [
      "corrupt file\n",
      "Unable to convert the pixel data: one of Pixel Data, Float Pixel Data or Double Float Pixel Data must be present in the dataset\n"
     ]
    },
    {
     "name": "stderr",
     "output_type": "stream",
     "text": [
      " 52%|████████████████████▎                  | 2996/5767 [39:28<24:54,  1.85it/s]"
     ]
    },
    {
     "name": "stdout",
     "output_type": "stream",
     "text": [
      "corrupt file\n",
      "Unable to convert the pixel data: one of Pixel Data, Float Pixel Data or Double Float Pixel Data must be present in the dataset\n"
     ]
    },
    {
     "name": "stderr",
     "output_type": "stream",
     "text": [
      " 54%|████████████████████▉                  | 3094/5767 [41:00<28:02,  1.59it/s]"
     ]
    },
    {
     "name": "stdout",
     "output_type": "stream",
     "text": [
      "corrupt file\n",
      "Unable to convert the pixel data: one of Pixel Data, Float Pixel Data or Double Float Pixel Data must be present in the dataset\n"
     ]
    },
    {
     "name": "stderr",
     "output_type": "stream",
     "text": [
      " 55%|█████████████████████▎                 | 3149/5767 [41:55<45:38,  1.05s/it]"
     ]
    },
    {
     "name": "stdout",
     "output_type": "stream",
     "text": [
      "corrupt file\n",
      "Unable to convert the pixel data: one of Pixel Data, Float Pixel Data or Double Float Pixel Data must be present in the dataset\n"
     ]
    },
    {
     "name": "stderr",
     "output_type": "stream",
     "text": [
      " 55%|█████████████████████▎                 | 3152/5767 [41:57<33:35,  1.30it/s]"
     ]
    },
    {
     "name": "stdout",
     "output_type": "stream",
     "text": [
      "corrupt file\n",
      "Unable to convert the pixel data: one of Pixel Data, Float Pixel Data or Double Float Pixel Data must be present in the dataset\n"
     ]
    },
    {
     "name": "stderr",
     "output_type": "stream",
     "text": [
      " 55%|█████████████████████▎                 | 3157/5767 [41:59<26:06,  1.67it/s]"
     ]
    },
    {
     "name": "stdout",
     "output_type": "stream",
     "text": [
      "corrupt file\n",
      "Unable to convert the pixel data: one of Pixel Data, Float Pixel Data or Double Float Pixel Data must be present in the dataset\n"
     ]
    },
    {
     "name": "stderr",
     "output_type": "stream",
     "text": [
      " 55%|█████████████████████▍                 | 3168/5767 [42:05<32:07,  1.35it/s]"
     ]
    },
    {
     "name": "stdout",
     "output_type": "stream",
     "text": [
      "corrupt file\n",
      "Unable to convert the pixel data: one of Pixel Data, Float Pixel Data or Double Float Pixel Data must be present in the dataset\n"
     ]
    },
    {
     "name": "stderr",
     "output_type": "stream",
     "text": [
      " 56%|█████████████████████▋                 | 3210/5767 [42:30<14:01,  3.04it/s]"
     ]
    },
    {
     "name": "stdout",
     "output_type": "stream",
     "text": [
      "corrupt file\n",
      "Unable to convert the pixel data: one of Pixel Data, Float Pixel Data or Double Float Pixel Data must be present in the dataset\n",
      "corrupt file\n",
      "Unable to convert the pixel data: one of Pixel Data, Float Pixel Data or Double Float Pixel Data must be present in the dataset\n"
     ]
    },
    {
     "name": "stderr",
     "output_type": "stream",
     "text": [
      " 56%|█████████████████████▋                 | 3213/5767 [42:31<14:29,  2.94it/s]"
     ]
    },
    {
     "name": "stdout",
     "output_type": "stream",
     "text": [
      "corrupt file\n",
      "Unable to convert the pixel data: one of Pixel Data, Float Pixel Data or Double Float Pixel Data must be present in the dataset\n"
     ]
    },
    {
     "name": "stderr",
     "output_type": "stream",
     "text": [
      " 56%|█████████████████████▊                 | 3218/5767 [42:37<45:57,  1.08s/it]"
     ]
    },
    {
     "name": "stdout",
     "output_type": "stream",
     "text": [
      "corrupt file\n",
      "Unable to convert the pixel data: one of Pixel Data, Float Pixel Data or Double Float Pixel Data must be present in the dataset\n"
     ]
    },
    {
     "name": "stderr",
     "output_type": "stream",
     "text": [
      " 58%|██████████████████████▋                | 3359/5767 [44:09<34:27,  1.16it/s]"
     ]
    },
    {
     "name": "stdout",
     "output_type": "stream",
     "text": [
      "corrupt file\n",
      "Unable to convert the pixel data: one of Pixel Data, Float Pixel Data or Double Float Pixel Data must be present in the dataset\n"
     ]
    },
    {
     "name": "stderr",
     "output_type": "stream",
     "text": [
      " 59%|███████████████████████                | 3406/5767 [44:31<04:24,  8.93it/s]"
     ]
    },
    {
     "name": "stdout",
     "output_type": "stream",
     "text": [
      "corrupt file\n",
      "Unable to convert the pixel data: one of Pixel Data, Float Pixel Data or Double Float Pixel Data must be present in the dataset\n"
     ]
    },
    {
     "name": "stderr",
     "output_type": "stream",
     "text": [
      " 59%|█████████████████████▉               | 3429/5767 [44:57<1:09:30,  1.78s/it]"
     ]
    },
    {
     "name": "stdout",
     "output_type": "stream",
     "text": [
      "corrupt file\n",
      "Unable to convert the pixel data: one of Pixel Data, Float Pixel Data or Double Float Pixel Data must be present in the dataset\n"
     ]
    },
    {
     "name": "stderr",
     "output_type": "stream",
     "text": [
      " 60%|███████████████████████▍               | 3466/5767 [45:31<30:01,  1.28it/s]"
     ]
    },
    {
     "name": "stdout",
     "output_type": "stream",
     "text": [
      "corrupt file\n",
      "Unable to convert the pixel data: one of Pixel Data, Float Pixel Data or Double Float Pixel Data must be present in the dataset\n"
     ]
    },
    {
     "name": "stderr",
     "output_type": "stream",
     "text": [
      " 61%|███████████████████████▋               | 3497/5767 [45:46<13:38,  2.77it/s]"
     ]
    },
    {
     "name": "stdout",
     "output_type": "stream",
     "text": [
      "corrupt file\n",
      "Unable to convert the pixel data: one of Pixel Data, Float Pixel Data or Double Float Pixel Data must be present in the dataset\n"
     ]
    },
    {
     "name": "stderr",
     "output_type": "stream",
     "text": [
      " 61%|███████████████████████▊               | 3512/5767 [45:50<07:15,  5.18it/s]"
     ]
    },
    {
     "name": "stdout",
     "output_type": "stream",
     "text": [
      "corrupt file\n",
      "Unable to convert the pixel data: one of Pixel Data, Float Pixel Data or Double Float Pixel Data must be present in the dataset\n"
     ]
    },
    {
     "name": "stderr",
     "output_type": "stream",
     "text": [
      " 61%|███████████████████████▉               | 3542/5767 [46:03<10:53,  3.40it/s]"
     ]
    },
    {
     "name": "stdout",
     "output_type": "stream",
     "text": [
      "corrupt file\n",
      "Unable to convert the pixel data: one of Pixel Data, Float Pixel Data or Double Float Pixel Data must be present in the dataset\n"
     ]
    },
    {
     "name": "stderr",
     "output_type": "stream",
     "text": [
      " 61%|███████████████████████▉               | 3546/5767 [46:06<20:06,  1.84it/s]"
     ]
    },
    {
     "name": "stdout",
     "output_type": "stream",
     "text": [
      "corrupt file\n",
      "Unable to convert the pixel data: one of Pixel Data, Float Pixel Data or Double Float Pixel Data must be present in the dataset\n"
     ]
    },
    {
     "name": "stderr",
     "output_type": "stream",
     "text": [
      " 63%|████████████████████████▍              | 3612/5767 [46:20<16:41,  2.15it/s]"
     ]
    },
    {
     "name": "stdout",
     "output_type": "stream",
     "text": [
      "corrupt file\n",
      "Unable to convert the pixel data: one of Pixel Data, Float Pixel Data or Double Float Pixel Data must be present in the dataset\n"
     ]
    },
    {
     "name": "stderr",
     "output_type": "stream",
     "text": [
      " 63%|████████████████████████▌              | 3634/5767 [46:34<24:32,  1.45it/s]"
     ]
    },
    {
     "name": "stdout",
     "output_type": "stream",
     "text": [
      "corrupt file\n",
      "Unable to convert the pixel data: one of Pixel Data, Float Pixel Data or Double Float Pixel Data must be present in the dataset\n"
     ]
    },
    {
     "name": "stderr",
     "output_type": "stream",
     "text": [
      " 63%|████████████████████████▌              | 3636/5767 [46:35<27:28,  1.29it/s]"
     ]
    },
    {
     "name": "stdout",
     "output_type": "stream",
     "text": [
      "corrupt file\n",
      "Unable to convert the pixel data: one of Pixel Data, Float Pixel Data or Double Float Pixel Data must be present in the dataset\n"
     ]
    },
    {
     "name": "stderr",
     "output_type": "stream",
     "text": [
      " 63%|████████████████████████▌              | 3640/5767 [46:38<24:10,  1.47it/s]"
     ]
    },
    {
     "name": "stdout",
     "output_type": "stream",
     "text": [
      "corrupt file\n",
      "Unable to convert the pixel data: one of Pixel Data, Float Pixel Data or Double Float Pixel Data must be present in the dataset\n",
      "corrupt file\n",
      "Unable to convert the pixel data: one of Pixel Data, Float Pixel Data or Double Float Pixel Data must be present in the dataset\n"
     ]
    },
    {
     "name": "stderr",
     "output_type": "stream",
     "text": [
      " 63%|████████████████████████▋              | 3647/5767 [46:41<17:41,  2.00it/s]"
     ]
    },
    {
     "name": "stdout",
     "output_type": "stream",
     "text": [
      "corrupt file\n",
      "Unable to convert the pixel data: one of Pixel Data, Float Pixel Data or Double Float Pixel Data must be present in the dataset\n"
     ]
    },
    {
     "name": "stderr",
     "output_type": "stream",
     "text": [
      " 64%|████████████████████████▉              | 3683/5767 [47:08<22:33,  1.54it/s]"
     ]
    },
    {
     "name": "stdout",
     "output_type": "stream",
     "text": [
      "corrupt file\n",
      "Unable to convert the pixel data: one of Pixel Data, Float Pixel Data or Double Float Pixel Data must be present in the dataset\n"
     ]
    },
    {
     "name": "stderr",
     "output_type": "stream",
     "text": [
      " 64%|█████████████████████████              | 3709/5767 [47:23<15:00,  2.29it/s]"
     ]
    },
    {
     "name": "stdout",
     "output_type": "stream",
     "text": [
      "corrupt file\n",
      "Unable to convert the pixel data: one of Pixel Data, Float Pixel Data or Double Float Pixel Data must be present in the dataset\n"
     ]
    },
    {
     "name": "stderr",
     "output_type": "stream",
     "text": [
      " 65%|█████████████████████████▏             | 3725/5767 [47:32<14:04,  2.42it/s]"
     ]
    },
    {
     "name": "stdout",
     "output_type": "stream",
     "text": [
      "corrupt file\n",
      "Unable to convert the pixel data: one of Pixel Data, Float Pixel Data or Double Float Pixel Data must be present in the dataset\n"
     ]
    },
    {
     "name": "stderr",
     "output_type": "stream",
     "text": [
      " 65%|█████████████████████████▏             | 3729/5767 [47:35<20:53,  1.63it/s]"
     ]
    },
    {
     "name": "stdout",
     "output_type": "stream",
     "text": [
      "corrupt file\n",
      "Unable to convert the pixel data: one of Pixel Data, Float Pixel Data or Double Float Pixel Data must be present in the dataset\n"
     ]
    },
    {
     "name": "stderr",
     "output_type": "stream",
     "text": [
      " 65%|█████████████████████████▎             | 3734/5767 [47:37<13:35,  2.49it/s]"
     ]
    },
    {
     "name": "stdout",
     "output_type": "stream",
     "text": [
      "corrupt file\n",
      "Unable to convert the pixel data: one of Pixel Data, Float Pixel Data or Double Float Pixel Data must be present in the dataset\n"
     ]
    },
    {
     "name": "stderr",
     "output_type": "stream",
     "text": [
      " 67%|██████████████████████████             | 3845/5767 [49:11<44:21,  1.38s/it]"
     ]
    },
    {
     "name": "stdout",
     "output_type": "stream",
     "text": [
      "corrupt file\n",
      "Unable to convert the pixel data: one of Pixel Data, Float Pixel Data or Double Float Pixel Data must be present in the dataset\n"
     ]
    },
    {
     "name": "stderr",
     "output_type": "stream",
     "text": [
      " 68%|██████████████████████████▍            | 3917/5767 [50:01<13:56,  2.21it/s]"
     ]
    },
    {
     "name": "stdout",
     "output_type": "stream",
     "text": [
      "corrupt file\n",
      "Unable to convert the pixel data: one of Pixel Data, Float Pixel Data or Double Float Pixel Data must be present in the dataset\n"
     ]
    },
    {
     "name": "stderr",
     "output_type": "stream",
     "text": [
      " 69%|██████████████████████████▉            | 3977/5767 [51:05<39:08,  1.31s/it]"
     ]
    },
    {
     "name": "stdout",
     "output_type": "stream",
     "text": [
      "corrupt file\n",
      "Unable to convert the pixel data: one of Pixel Data, Float Pixel Data or Double Float Pixel Data must be present in the dataset\n"
     ]
    },
    {
     "name": "stderr",
     "output_type": "stream",
     "text": [
      " 69%|███████████████████████████            | 4002/5767 [51:26<23:57,  1.23it/s]"
     ]
    },
    {
     "name": "stdout",
     "output_type": "stream",
     "text": [
      "corrupt file\n",
      "Unable to convert the pixel data: one of Pixel Data, Float Pixel Data or Double Float Pixel Data must be present in the dataset\n"
     ]
    },
    {
     "name": "stderr",
     "output_type": "stream",
     "text": [
      " 70%|███████████████████████████▏           | 4012/5767 [51:28<06:33,  4.46it/s]"
     ]
    },
    {
     "name": "stdout",
     "output_type": "stream",
     "text": [
      "corrupt file\n",
      "Unable to convert the pixel data: one of Pixel Data, Float Pixel Data or Double Float Pixel Data must be present in the dataset\n"
     ]
    },
    {
     "name": "stderr",
     "output_type": "stream",
     "text": [
      " 70%|███████████████████████████▏           | 4020/5767 [51:30<06:28,  4.50it/s]"
     ]
    },
    {
     "name": "stdout",
     "output_type": "stream",
     "text": [
      "corrupt file\n",
      "Unable to convert the pixel data: one of Pixel Data, Float Pixel Data or Double Float Pixel Data must be present in the dataset\n"
     ]
    },
    {
     "name": "stderr",
     "output_type": "stream",
     "text": [
      " 70%|███████████████████████████▎           | 4047/5767 [51:39<15:13,  1.88it/s]"
     ]
    },
    {
     "name": "stdout",
     "output_type": "stream",
     "text": [
      "corrupt file\n",
      "Unable to convert the pixel data: one of Pixel Data, Float Pixel Data or Double Float Pixel Data must be present in the dataset\n"
     ]
    },
    {
     "name": "stderr",
     "output_type": "stream",
     "text": [
      " 72%|███████████████████████████▉           | 4139/5767 [52:18<09:24,  2.88it/s]"
     ]
    },
    {
     "name": "stdout",
     "output_type": "stream",
     "text": [
      "corrupt file\n",
      "Unable to convert the pixel data: one of Pixel Data, Float Pixel Data or Double Float Pixel Data must be present in the dataset\n"
     ]
    },
    {
     "name": "stderr",
     "output_type": "stream",
     "text": [
      " 73%|████████████████████████████▍          | 4198/5767 [52:41<16:39,  1.57it/s]"
     ]
    },
    {
     "name": "stdout",
     "output_type": "stream",
     "text": [
      "corrupt file\n",
      "Unable to convert the pixel data: one of Pixel Data, Float Pixel Data or Double Float Pixel Data must be present in the dataset\n"
     ]
    },
    {
     "name": "stderr",
     "output_type": "stream",
     "text": [
      " 73%|████████████████████████████▍          | 4208/5767 [52:47<20:48,  1.25it/s]"
     ]
    },
    {
     "name": "stdout",
     "output_type": "stream",
     "text": [
      "corrupt file\n",
      "Unable to convert the pixel data: one of Pixel Data, Float Pixel Data or Double Float Pixel Data must be present in the dataset\n"
     ]
    },
    {
     "name": "stderr",
     "output_type": "stream",
     "text": [
      " 73%|████████████████████████████▌          | 4219/5767 [52:53<19:59,  1.29it/s]"
     ]
    },
    {
     "name": "stdout",
     "output_type": "stream",
     "text": [
      "corrupt file\n",
      "Unable to convert the pixel data: one of Pixel Data, Float Pixel Data or Double Float Pixel Data must be present in the dataset\n",
      "corrupt file\n",
      "Unable to convert the pixel data: one of Pixel Data, Float Pixel Data or Double Float Pixel Data must be present in the dataset\n"
     ]
    },
    {
     "name": "stderr",
     "output_type": "stream",
     "text": [
      " 74%|████████████████████████████▋          | 4245/5767 [53:11<20:23,  1.24it/s]"
     ]
    },
    {
     "name": "stdout",
     "output_type": "stream",
     "text": [
      "corrupt file\n",
      "Unable to convert the pixel data: one of Pixel Data, Float Pixel Data or Double Float Pixel Data must be present in the dataset\n"
     ]
    },
    {
     "name": "stderr",
     "output_type": "stream",
     "text": [
      " 77%|██████████████████████████████▏        | 4456/5767 [56:11<14:19,  1.53it/s]"
     ]
    },
    {
     "name": "stdout",
     "output_type": "stream",
     "text": [
      "corrupt file\n",
      "Unable to convert the pixel data: one of Pixel Data, Float Pixel Data or Double Float Pixel Data must be present in the dataset\n"
     ]
    },
    {
     "name": "stderr",
     "output_type": "stream",
     "text": [
      " 79%|██████████████████████████████▊        | 4565/5767 [58:00<09:31,  2.10it/s]"
     ]
    },
    {
     "name": "stdout",
     "output_type": "stream",
     "text": [
      "corrupt file\n",
      "Unable to convert the pixel data: one of Pixel Data, Float Pixel Data or Double Float Pixel Data must be present in the dataset\n"
     ]
    },
    {
     "name": "stderr",
     "output_type": "stream",
     "text": [
      " 79%|██████████████████████████████▉        | 4577/5767 [58:11<17:00,  1.17it/s]"
     ]
    },
    {
     "name": "stdout",
     "output_type": "stream",
     "text": [
      "corrupt file\n",
      "Unable to convert the pixel data: one of Pixel Data, Float Pixel Data or Double Float Pixel Data must be present in the dataset\n"
     ]
    },
    {
     "name": "stderr",
     "output_type": "stream",
     "text": [
      " 80%|███████████████████████████████▎       | 4638/5767 [58:51<10:15,  1.83it/s]"
     ]
    },
    {
     "name": "stdout",
     "output_type": "stream",
     "text": [
      "corrupt file\n",
      "Unable to convert the pixel data: one of Pixel Data, Float Pixel Data or Double Float Pixel Data must be present in the dataset\n"
     ]
    },
    {
     "name": "stderr",
     "output_type": "stream",
     "text": [
      " 82%|██████████████████████████████▍      | 4737/5767 [1:00:00<07:16,  2.36it/s]"
     ]
    },
    {
     "name": "stdout",
     "output_type": "stream",
     "text": [
      "corrupt file\n",
      "Unable to convert the pixel data: one of Pixel Data, Float Pixel Data or Double Float Pixel Data must be present in the dataset\n",
      "corrupt file\n",
      "Unable to convert the pixel data: one of Pixel Data, Float Pixel Data or Double Float Pixel Data must be present in the dataset\n"
     ]
    },
    {
     "name": "stderr",
     "output_type": "stream",
     "text": [
      " 82%|██████████████████████████████▍      | 4751/5767 [1:00:10<14:50,  1.14it/s]"
     ]
    },
    {
     "name": "stdout",
     "output_type": "stream",
     "text": [
      "corrupt file\n",
      "Unable to convert the pixel data: one of Pixel Data, Float Pixel Data or Double Float Pixel Data must be present in the dataset\n"
     ]
    },
    {
     "name": "stderr",
     "output_type": "stream",
     "text": [
      " 83%|██████████████████████████████▌      | 4772/5767 [1:00:24<18:07,  1.09s/it]"
     ]
    },
    {
     "name": "stdout",
     "output_type": "stream",
     "text": [
      "corrupt file\n",
      "Unable to convert the pixel data: one of Pixel Data, Float Pixel Data or Double Float Pixel Data must be present in the dataset\n"
     ]
    },
    {
     "name": "stderr",
     "output_type": "stream",
     "text": [
      " 83%|██████████████████████████████▋      | 4778/5767 [1:00:27<11:06,  1.48it/s]"
     ]
    },
    {
     "name": "stdout",
     "output_type": "stream",
     "text": [
      "corrupt file\n",
      "Unable to convert the pixel data: one of Pixel Data, Float Pixel Data or Double Float Pixel Data must be present in the dataset\n"
     ]
    },
    {
     "name": "stderr",
     "output_type": "stream",
     "text": [
      " 83%|██████████████████████████████▊      | 4797/5767 [1:00:37<08:44,  1.85it/s]"
     ]
    },
    {
     "name": "stdout",
     "output_type": "stream",
     "text": [
      "corrupt file\n",
      "Unable to convert the pixel data: one of Pixel Data, Float Pixel Data or Double Float Pixel Data must be present in the dataset\n"
     ]
    },
    {
     "name": "stderr",
     "output_type": "stream",
     "text": [
      " 83%|██████████████████████████████▊      | 4806/5767 [1:00:42<09:44,  1.64it/s]"
     ]
    },
    {
     "name": "stdout",
     "output_type": "stream",
     "text": [
      "corrupt file\n",
      "Unable to convert the pixel data: one of Pixel Data, Float Pixel Data or Double Float Pixel Data must be present in the dataset\n"
     ]
    },
    {
     "name": "stderr",
     "output_type": "stream",
     "text": [
      " 83%|██████████████████████████████▊      | 4811/5767 [1:00:43<06:58,  2.29it/s]"
     ]
    },
    {
     "name": "stdout",
     "output_type": "stream",
     "text": [
      "corrupt file\n",
      "Unable to convert the pixel data: one of Pixel Data, Float Pixel Data or Double Float Pixel Data must be present in the dataset\n"
     ]
    },
    {
     "name": "stderr",
     "output_type": "stream",
     "text": [
      " 84%|██████████████████████████████▉      | 4824/5767 [1:00:50<09:35,  1.64it/s]"
     ]
    },
    {
     "name": "stdout",
     "output_type": "stream",
     "text": [
      "corrupt file\n",
      "Unable to convert the pixel data: one of Pixel Data, Float Pixel Data or Double Float Pixel Data must be present in the dataset\n",
      "corrupt file\n",
      "Unable to convert the pixel data: one of Pixel Data, Float Pixel Data or Double Float Pixel Data must be present in the dataset\n"
     ]
    },
    {
     "name": "stderr",
     "output_type": "stream",
     "text": [
      " 84%|██████████████████████████████▉      | 4831/5767 [1:00:51<03:35,  4.35it/s]"
     ]
    },
    {
     "name": "stdout",
     "output_type": "stream",
     "text": [
      "corrupt file\n",
      "Unable to convert the pixel data: one of Pixel Data, Float Pixel Data or Double Float Pixel Data must be present in the dataset\n",
      "corrupt file\n",
      "Unable to convert the pixel data: one of Pixel Data, Float Pixel Data or Double Float Pixel Data must be present in the dataset\n"
     ]
    },
    {
     "name": "stderr",
     "output_type": "stream",
     "text": [
      " 84%|███████████████████████████████      | 4837/5767 [1:00:52<02:43,  5.69it/s]"
     ]
    },
    {
     "name": "stdout",
     "output_type": "stream",
     "text": [
      "corrupt file\n",
      "Unable to convert the pixel data: one of Pixel Data, Float Pixel Data or Double Float Pixel Data must be present in the dataset\n"
     ]
    },
    {
     "name": "stderr",
     "output_type": "stream",
     "text": [
      " 84%|███████████████████████████████      | 4841/5767 [1:00:52<02:01,  7.64it/s]"
     ]
    },
    {
     "name": "stdout",
     "output_type": "stream",
     "text": [
      "corrupt file\n",
      "Unable to convert the pixel data: one of Pixel Data, Float Pixel Data or Double Float Pixel Data must be present in the dataset\n",
      "corrupt file\n",
      "Unable to convert the pixel data: one of Pixel Data, Float Pixel Data or Double Float Pixel Data must be present in the dataset\n"
     ]
    },
    {
     "name": "stderr",
     "output_type": "stream",
     "text": [
      " 84%|███████████████████████████████      | 4842/5767 [1:00:53<03:28,  4.44it/s]"
     ]
    },
    {
     "name": "stdout",
     "output_type": "stream",
     "text": [
      "corrupt file\n",
      "Unable to convert the pixel data: one of Pixel Data, Float Pixel Data or Double Float Pixel Data must be present in the dataset\n",
      "corrupt file\n",
      "Unable to convert the pixel data: one of Pixel Data, Float Pixel Data or Double Float Pixel Data must be present in the dataset\n"
     ]
    },
    {
     "name": "stderr",
     "output_type": "stream",
     "text": [
      " 84%|███████████████████████████████▏     | 4856/5767 [1:00:57<04:14,  3.58it/s]"
     ]
    },
    {
     "name": "stdout",
     "output_type": "stream",
     "text": [
      "corrupt file\n",
      "Unable to convert the pixel data: one of Pixel Data, Float Pixel Data or Double Float Pixel Data must be present in the dataset\n",
      "corrupt file\n",
      "Unable to convert the pixel data: one of Pixel Data, Float Pixel Data or Double Float Pixel Data must be present in the dataset\n"
     ]
    },
    {
     "name": "stderr",
     "output_type": "stream",
     "text": [
      " 84%|███████████████████████████████▏     | 4862/5767 [1:00:58<03:29,  4.32it/s]"
     ]
    },
    {
     "name": "stdout",
     "output_type": "stream",
     "text": [
      "corrupt file\n",
      "Unable to convert the pixel data: one of Pixel Data, Float Pixel Data or Double Float Pixel Data must be present in the dataset\n"
     ]
    },
    {
     "name": "stderr",
     "output_type": "stream",
     "text": [
      " 85%|███████████████████████████████▎     | 4876/5767 [1:01:07<17:53,  1.20s/it]"
     ]
    },
    {
     "name": "stdout",
     "output_type": "stream",
     "text": [
      "corrupt file\n",
      "Unable to convert the pixel data: one of Pixel Data, Float Pixel Data or Double Float Pixel Data must be present in the dataset\n"
     ]
    },
    {
     "name": "stderr",
     "output_type": "stream",
     "text": [
      " 85%|███████████████████████████████▎     | 4890/5767 [1:01:13<07:16,  2.01it/s]"
     ]
    },
    {
     "name": "stdout",
     "output_type": "stream",
     "text": [
      "corrupt file\n",
      "Unable to convert the pixel data: one of Pixel Data, Float Pixel Data or Double Float Pixel Data must be present in the dataset\n"
     ]
    },
    {
     "name": "stderr",
     "output_type": "stream",
     "text": [
      " 85%|███████████████████████████████▍     | 4900/5767 [1:01:16<05:02,  2.86it/s]"
     ]
    },
    {
     "name": "stdout",
     "output_type": "stream",
     "text": [
      "corrupt file\n",
      "Unable to convert the pixel data: one of Pixel Data, Float Pixel Data or Double Float Pixel Data must be present in the dataset\n"
     ]
    },
    {
     "name": "stderr",
     "output_type": "stream",
     "text": [
      " 85%|███████████████████████████████▍     | 4902/5767 [1:01:17<04:50,  2.98it/s]"
     ]
    },
    {
     "name": "stdout",
     "output_type": "stream",
     "text": [
      "corrupt file\n",
      "Unable to convert the pixel data: one of Pixel Data, Float Pixel Data or Double Float Pixel Data must be present in the dataset\n"
     ]
    },
    {
     "name": "stderr",
     "output_type": "stream",
     "text": [
      " 85%|███████████████████████████████▍     | 4906/5767 [1:01:22<18:06,  1.26s/it]"
     ]
    },
    {
     "name": "stdout",
     "output_type": "stream",
     "text": [
      "corrupt file\n",
      "Unable to convert the pixel data: one of Pixel Data, Float Pixel Data or Double Float Pixel Data must be present in the dataset\n"
     ]
    },
    {
     "name": "stderr",
     "output_type": "stream",
     "text": [
      " 85%|███████████████████████████████▌     | 4911/5767 [1:01:23<08:13,  1.73it/s]"
     ]
    },
    {
     "name": "stdout",
     "output_type": "stream",
     "text": [
      "corrupt file\n",
      "Unable to convert the pixel data: one of Pixel Data, Float Pixel Data or Double Float Pixel Data must be present in the dataset\n"
     ]
    },
    {
     "name": "stderr",
     "output_type": "stream",
     "text": [
      " 85%|███████████████████████████████▌     | 4916/5767 [1:01:26<05:59,  2.37it/s]"
     ]
    },
    {
     "name": "stdout",
     "output_type": "stream",
     "text": [
      "corrupt file\n",
      "Unable to convert the pixel data: one of Pixel Data, Float Pixel Data or Double Float Pixel Data must be present in the dataset\n"
     ]
    },
    {
     "name": "stderr",
     "output_type": "stream",
     "text": [
      " 86%|███████████████████████████████▋     | 4934/5767 [1:01:36<07:13,  1.92it/s]"
     ]
    },
    {
     "name": "stdout",
     "output_type": "stream",
     "text": [
      "corrupt file\n",
      "Unable to convert the pixel data: one of Pixel Data, Float Pixel Data or Double Float Pixel Data must be present in the dataset\n"
     ]
    },
    {
     "name": "stderr",
     "output_type": "stream",
     "text": [
      " 86%|███████████████████████████████▋     | 4940/5767 [1:01:38<07:00,  1.97it/s]"
     ]
    },
    {
     "name": "stdout",
     "output_type": "stream",
     "text": [
      "corrupt file\n",
      "Unable to convert the pixel data: one of Pixel Data, Float Pixel Data or Double Float Pixel Data must be present in the dataset\n"
     ]
    },
    {
     "name": "stderr",
     "output_type": "stream",
     "text": [
      " 87%|████████████████████████████████     | 4992/5767 [1:02:13<08:13,  1.57it/s]"
     ]
    },
    {
     "name": "stdout",
     "output_type": "stream",
     "text": [
      "corrupt file\n",
      "Unable to convert the pixel data: one of Pixel Data, Float Pixel Data or Double Float Pixel Data must be present in the dataset\n"
     ]
    },
    {
     "name": "stderr",
     "output_type": "stream",
     "text": [
      " 87%|████████████████████████████████     | 5002/5767 [1:02:19<07:39,  1.66it/s]"
     ]
    },
    {
     "name": "stdout",
     "output_type": "stream",
     "text": [
      "corrupt file\n",
      "Unable to convert the pixel data: one of Pixel Data, Float Pixel Data or Double Float Pixel Data must be present in the dataset\n"
     ]
    },
    {
     "name": "stderr",
     "output_type": "stream",
     "text": [
      " 87%|████████████████████████████████▏    | 5010/5767 [1:02:22<05:31,  2.29it/s]"
     ]
    },
    {
     "name": "stdout",
     "output_type": "stream",
     "text": [
      "corrupt file\n",
      "Unable to convert the pixel data: one of Pixel Data, Float Pixel Data or Double Float Pixel Data must be present in the dataset\n"
     ]
    },
    {
     "name": "stderr",
     "output_type": "stream",
     "text": [
      " 87%|████████████████████████████████▏    | 5013/5767 [1:02:23<04:26,  2.82it/s]"
     ]
    },
    {
     "name": "stdout",
     "output_type": "stream",
     "text": [
      "corrupt file\n",
      "Unable to convert the pixel data: one of Pixel Data, Float Pixel Data or Double Float Pixel Data must be present in the dataset\n"
     ]
    },
    {
     "name": "stderr",
     "output_type": "stream",
     "text": [
      " 87%|████████████████████████████████▎    | 5029/5767 [1:02:24<01:00, 12.13it/s]"
     ]
    },
    {
     "name": "stdout",
     "output_type": "stream",
     "text": [
      "corrupt file\n",
      "Unable to convert the pixel data: one of Pixel Data, Float Pixel Data or Double Float Pixel Data must be present in the dataset\n",
      "corrupt file\n",
      "Unable to convert the pixel data: one of Pixel Data, Float Pixel Data or Double Float Pixel Data must be present in the dataset\n"
     ]
    },
    {
     "name": "stderr",
     "output_type": "stream",
     "text": [
      " 87%|████████████████████████████████▎    | 5032/5767 [1:02:24<01:18,  9.41it/s]"
     ]
    },
    {
     "name": "stdout",
     "output_type": "stream",
     "text": [
      "corrupt file\n",
      "Unable to convert the pixel data: one of Pixel Data, Float Pixel Data or Double Float Pixel Data must be present in the dataset\n"
     ]
    },
    {
     "name": "stderr",
     "output_type": "stream",
     "text": [
      " 88%|████████████████████████████████▍    | 5060/5767 [1:02:31<03:05,  3.81it/s]"
     ]
    },
    {
     "name": "stdout",
     "output_type": "stream",
     "text": [
      "corrupt file\n",
      "Unable to convert the pixel data: one of Pixel Data, Float Pixel Data or Double Float Pixel Data must be present in the dataset\n"
     ]
    },
    {
     "name": "stderr",
     "output_type": "stream",
     "text": [
      " 88%|████████████████████████████████▍    | 5063/5767 [1:02:32<03:30,  3.34it/s]"
     ]
    },
    {
     "name": "stdout",
     "output_type": "stream",
     "text": [
      "corrupt file\n",
      "Unable to convert the pixel data: one of Pixel Data, Float Pixel Data or Double Float Pixel Data must be present in the dataset\n"
     ]
    },
    {
     "name": "stderr",
     "output_type": "stream",
     "text": [
      " 88%|████████████████████████████████▌    | 5074/5767 [1:02:34<01:44,  6.65it/s]"
     ]
    },
    {
     "name": "stdout",
     "output_type": "stream",
     "text": [
      "corrupt file\n",
      "Unable to convert the pixel data: one of Pixel Data, Float Pixel Data or Double Float Pixel Data must be present in the dataset\n"
     ]
    },
    {
     "name": "stderr",
     "output_type": "stream",
     "text": [
      " 88%|████████████████████████████████▌    | 5077/5767 [1:02:34<01:51,  6.17it/s]"
     ]
    },
    {
     "name": "stdout",
     "output_type": "stream",
     "text": [
      "corrupt file\n",
      "Unable to convert the pixel data: one of Pixel Data, Float Pixel Data or Double Float Pixel Data must be present in the dataset\n"
     ]
    },
    {
     "name": "stderr",
     "output_type": "stream",
     "text": [
      " 88%|████████████████████████████████▋    | 5089/5767 [1:02:38<03:04,  3.68it/s]"
     ]
    },
    {
     "name": "stdout",
     "output_type": "stream",
     "text": [
      "corrupt file\n",
      "Unable to convert the pixel data: one of Pixel Data, Float Pixel Data or Double Float Pixel Data must be present in the dataset\n"
     ]
    },
    {
     "name": "stderr",
     "output_type": "stream",
     "text": [
      " 89%|████████████████████████████████▊    | 5120/5767 [1:02:47<02:25,  4.44it/s]"
     ]
    },
    {
     "name": "stdout",
     "output_type": "stream",
     "text": [
      "corrupt file\n",
      "Unable to convert the pixel data: one of Pixel Data, Float Pixel Data or Double Float Pixel Data must be present in the dataset\n"
     ]
    },
    {
     "name": "stderr",
     "output_type": "stream",
     "text": [
      " 89%|████████████████████████████████▊    | 5122/5767 [1:02:47<02:44,  3.92it/s]"
     ]
    },
    {
     "name": "stdout",
     "output_type": "stream",
     "text": [
      "corrupt file\n",
      "Unable to convert the pixel data: one of Pixel Data, Float Pixel Data or Double Float Pixel Data must be present in the dataset\n"
     ]
    },
    {
     "name": "stderr",
     "output_type": "stream",
     "text": [
      " 89%|████████████████████████████████▊    | 5124/5767 [1:02:48<02:57,  3.63it/s]"
     ]
    },
    {
     "name": "stdout",
     "output_type": "stream",
     "text": [
      "corrupt file\n",
      "Unable to convert the pixel data: one of Pixel Data, Float Pixel Data or Double Float Pixel Data must be present in the dataset\n"
     ]
    },
    {
     "name": "stderr",
     "output_type": "stream",
     "text": [
      " 89%|████████████████████████████████▉    | 5131/5767 [1:02:49<01:58,  5.38it/s]"
     ]
    },
    {
     "name": "stdout",
     "output_type": "stream",
     "text": [
      "corrupt file\n",
      "Unable to convert the pixel data: one of Pixel Data, Float Pixel Data or Double Float Pixel Data must be present in the dataset\n"
     ]
    },
    {
     "name": "stderr",
     "output_type": "stream",
     "text": [
      " 89%|████████████████████████████████▉    | 5135/5767 [1:02:50<02:21,  4.46it/s]"
     ]
    },
    {
     "name": "stdout",
     "output_type": "stream",
     "text": [
      "corrupt file\n",
      "Unable to convert the pixel data: one of Pixel Data, Float Pixel Data or Double Float Pixel Data must be present in the dataset\n"
     ]
    },
    {
     "name": "stderr",
     "output_type": "stream",
     "text": [
      " 89%|████████████████████████████████▉    | 5139/5767 [1:02:51<02:35,  4.03it/s]"
     ]
    },
    {
     "name": "stdout",
     "output_type": "stream",
     "text": [
      "corrupt file\n",
      "Unable to convert the pixel data: one of Pixel Data, Float Pixel Data or Double Float Pixel Data must be present in the dataset\n"
     ]
    },
    {
     "name": "stderr",
     "output_type": "stream",
     "text": [
      " 89%|█████████████████████████████████    | 5149/5767 [1:02:55<04:03,  2.54it/s]"
     ]
    },
    {
     "name": "stdout",
     "output_type": "stream",
     "text": [
      "corrupt file\n",
      "Unable to convert the pixel data: one of Pixel Data, Float Pixel Data or Double Float Pixel Data must be present in the dataset\n"
     ]
    },
    {
     "name": "stderr",
     "output_type": "stream",
     "text": [
      " 89%|█████████████████████████████████    | 5151/5767 [1:02:56<03:44,  2.74it/s]"
     ]
    },
    {
     "name": "stdout",
     "output_type": "stream",
     "text": [
      "corrupt file\n",
      "Unable to convert the pixel data: one of Pixel Data, Float Pixel Data or Double Float Pixel Data must be present in the dataset\n"
     ]
    },
    {
     "name": "stderr",
     "output_type": "stream",
     "text": [
      " 90%|█████████████████████████████████▎   | 5201/5767 [1:03:25<06:41,  1.41it/s]"
     ]
    },
    {
     "name": "stdout",
     "output_type": "stream",
     "text": [
      "corrupt file\n",
      "Unable to convert the pixel data: one of Pixel Data, Float Pixel Data or Double Float Pixel Data must be present in the dataset\n"
     ]
    },
    {
     "name": "stderr",
     "output_type": "stream",
     "text": [
      " 90%|█████████████████████████████████▍   | 5210/5767 [1:03:29<04:33,  2.03it/s]"
     ]
    },
    {
     "name": "stdout",
     "output_type": "stream",
     "text": [
      "corrupt file\n",
      "Unable to convert the pixel data: one of Pixel Data, Float Pixel Data or Double Float Pixel Data must be present in the dataset\n"
     ]
    },
    {
     "name": "stderr",
     "output_type": "stream",
     "text": [
      " 91%|█████████████████████████████████▊   | 5272/5767 [1:04:13<11:00,  1.33s/it]"
     ]
    },
    {
     "name": "stdout",
     "output_type": "stream",
     "text": [
      "corrupt file\n",
      "Unable to convert the pixel data: one of Pixel Data, Float Pixel Data or Double Float Pixel Data must be present in the dataset\n"
     ]
    },
    {
     "name": "stderr",
     "output_type": "stream",
     "text": [
      " 93%|██████████████████████████████████▏  | 5335/5767 [1:05:05<07:14,  1.01s/it]"
     ]
    },
    {
     "name": "stdout",
     "output_type": "stream",
     "text": [
      "corrupt file\n",
      "Unable to convert the pixel data: one of Pixel Data, Float Pixel Data or Double Float Pixel Data must be present in the dataset\n"
     ]
    },
    {
     "name": "stderr",
     "output_type": "stream",
     "text": [
      " 95%|██████████████████████████████████▉  | 5455/5767 [1:07:05<04:36,  1.13it/s]"
     ]
    },
    {
     "name": "stdout",
     "output_type": "stream",
     "text": [
      "corrupt file\n",
      "Unable to convert the pixel data: one of Pixel Data, Float Pixel Data or Double Float Pixel Data must be present in the dataset\n"
     ]
    },
    {
     "name": "stderr",
     "output_type": "stream",
     "text": [
      " 95%|███████████████████████████████████▏ | 5484/5767 [1:07:27<04:52,  1.03s/it]"
     ]
    },
    {
     "name": "stdout",
     "output_type": "stream",
     "text": [
      "corrupt file\n",
      "Unable to convert the pixel data: one of Pixel Data, Float Pixel Data or Double Float Pixel Data must be present in the dataset\n"
     ]
    },
    {
     "name": "stderr",
     "output_type": "stream",
     "text": [
      " 96%|███████████████████████████████████▎ | 5510/5767 [1:07:51<03:03,  1.40it/s]"
     ]
    },
    {
     "name": "stdout",
     "output_type": "stream",
     "text": [
      "corrupt file\n",
      "Unable to convert the pixel data: one of Pixel Data, Float Pixel Data or Double Float Pixel Data must be present in the dataset\n"
     ]
    },
    {
     "name": "stderr",
     "output_type": "stream",
     "text": [
      " 96%|███████████████████████████████████▍ | 5519/5767 [1:08:09<09:11,  2.22s/it]"
     ]
    },
    {
     "name": "stdout",
     "output_type": "stream",
     "text": [
      "corrupt file\n",
      "Unable to convert the pixel data: one of Pixel Data, Float Pixel Data or Double Float Pixel Data must be present in the dataset\n"
     ]
    },
    {
     "name": "stderr",
     "output_type": "stream",
     "text": [
      " 96%|███████████████████████████████████▍ | 5522/5767 [1:08:11<05:25,  1.33s/it]"
     ]
    },
    {
     "name": "stdout",
     "output_type": "stream",
     "text": [
      "corrupt file\n",
      "Unable to convert the pixel data: one of Pixel Data, Float Pixel Data or Double Float Pixel Data must be present in the dataset\n"
     ]
    },
    {
     "name": "stderr",
     "output_type": "stream",
     "text": [
      " 96%|███████████████████████████████████▍ | 5526/5767 [1:08:16<05:21,  1.33s/it]"
     ]
    },
    {
     "name": "stdout",
     "output_type": "stream",
     "text": [
      "corrupt file\n",
      "Unable to convert the pixel data: one of Pixel Data, Float Pixel Data or Double Float Pixel Data must be present in the dataset\n"
     ]
    },
    {
     "name": "stderr",
     "output_type": "stream",
     "text": [
      " 96%|███████████████████████████████████▋ | 5556/5767 [1:08:33<03:05,  1.14it/s]"
     ]
    },
    {
     "name": "stdout",
     "output_type": "stream",
     "text": [
      "corrupt file\n",
      "Unable to convert the pixel data: one of Pixel Data, Float Pixel Data or Double Float Pixel Data must be present in the dataset\n"
     ]
    },
    {
     "name": "stderr",
     "output_type": "stream",
     "text": [
      " 98%|████████████████████████████████████ | 5630/5767 [1:09:14<00:58,  2.36it/s]"
     ]
    },
    {
     "name": "stdout",
     "output_type": "stream",
     "text": [
      "corrupt file\n",
      "Unable to convert the pixel data: one of Pixel Data, Float Pixel Data or Double Float Pixel Data must be present in the dataset\n"
     ]
    },
    {
     "name": "stderr",
     "output_type": "stream",
     "text": [
      "100%|████████████████████████████████████▉| 5756/5767 [1:10:38<00:10,  1.09it/s]"
     ]
    },
    {
     "name": "stdout",
     "output_type": "stream",
     "text": [
      "corrupt file\n",
      "Unable to convert the pixel data: one of Pixel Data, Float Pixel Data or Double Float Pixel Data must be present in the dataset\n"
     ]
    },
    {
     "name": "stderr",
     "output_type": "stream",
     "text": [
      "100%|█████████████████████████████████████| 5767/5767 [1:10:43<00:00,  1.36it/s]\n"
     ]
    },
    {
     "name": "stdout",
     "output_type": "stream",
     "text": [
      "stack_videos are extracted: torch.Size([3494, 3, 16, 224, 224]) for input: /media/aicvi/11111bdb-a0c7-4342-9791-36af7eb70fc0/Swiss-Care Echos/Andreas Jost-0760002100/TRANSTHORAKALES ECHO (TTE)-20240429-SYN1279758\n"
     ]
    },
    {
     "ename": "OutOfMemoryError",
     "evalue": "CUDA out of memory. Tried to allocate 20.90 GiB. GPU 0 has a total capacity of 23.53 GiB of which 9.87 GiB is free. Including non-PyTorch memory, this process has 13.21 GiB memory in use. Of the allocated memory 12.74 GiB is allocated by PyTorch, and 37.22 MiB is reserved by PyTorch but unallocated. If reserved but unallocated memory is large try setting PYTORCH_CUDA_ALLOC_CONF=expandable_segments:True to avoid fragmentation.  See documentation for Memory Management  (https://pytorch.org/docs/stable/notes/cuda.html#environment-variables)",
     "output_type": "error",
     "traceback": [
      "\u001B[0;31m---------------------------------------------------------------------------\u001B[0m",
      "\u001B[0;31mOutOfMemoryError\u001B[0m                          Traceback (most recent call last)",
      "Cell \u001B[0;32mIn[21], line 24\u001B[0m\n\u001B[1;32m     20\u001B[0m     np\u001B[38;5;241m.\u001B[39msave(numpy_path, stack_of_videos)\n\u001B[1;32m     22\u001B[0m \u001B[38;5;28mprint\u001B[39m(\u001B[38;5;124mf\u001B[39m\u001B[38;5;124m\"\u001B[39m\u001B[38;5;124mstack_videos are extracted: \u001B[39m\u001B[38;5;132;01m{\u001B[39;00mstack_of_videos\u001B[38;5;241m.\u001B[39mshape\u001B[38;5;132;01m}\u001B[39;00m\u001B[38;5;124m for input: \u001B[39m\u001B[38;5;132;01m{\u001B[39;00mpatient\u001B[38;5;132;01m}\u001B[39;00m\u001B[38;5;124m\"\u001B[39m)\n\u001B[0;32m---> 24\u001B[0m view_list\u001B[38;5;241m=\u001B[39m\u001B[43mget_view_list\u001B[49m\u001B[43m(\u001B[49m\u001B[43mstack_of_videos\u001B[49m\u001B[43m,\u001B[49m\u001B[43mvisualize\u001B[49m\u001B[38;5;241;43m=\u001B[39;49m\u001B[38;5;28;43;01mTrue\u001B[39;49;00m\u001B[43m,\u001B[49m\u001B[43m \u001B[49m\u001B[43moutput\u001B[49m\u001B[38;5;241;43m=\u001B[39;49m\u001B[43moutput_patient_path\u001B[49m\u001B[43m)\u001B[49m\n\u001B[1;32m     26\u001B[0m \u001B[38;5;28mprint\u001B[39m(view_list)\n",
      "Cell \u001B[0;32mIn[11], line 12\u001B[0m, in \u001B[0;36mget_view_list\u001B[0;34m(stack_of_videos, visualize, output)\u001B[0m\n\u001B[1;32m     10\u001B[0m stack_of_first_frames \u001B[38;5;241m=\u001B[39m stack_of_videos[:,:,\u001B[38;5;241m0\u001B[39m,:,:]\u001B[38;5;241m.\u001B[39mto(device)\n\u001B[1;32m     11\u001B[0m \u001B[38;5;28;01mwith\u001B[39;00m torch\u001B[38;5;241m.\u001B[39mno_grad():\n\u001B[0;32m---> 12\u001B[0m     out_logits\u001B[38;5;241m=\u001B[39m\u001B[43mview_classifier\u001B[49m\u001B[43m(\u001B[49m\u001B[43mstack_of_first_frames\u001B[49m\u001B[43m)\u001B[49m\n\u001B[1;32m     13\u001B[0m out_views\u001B[38;5;241m=\u001B[39mtorch\u001B[38;5;241m.\u001B[39margmax(out_logits,dim\u001B[38;5;241m=\u001B[39m\u001B[38;5;241m1\u001B[39m)\n\u001B[1;32m     14\u001B[0m view_list \u001B[38;5;241m=\u001B[39m [utils\u001B[38;5;241m.\u001B[39mCOARSE_VIEWS[v] \u001B[38;5;28;01mfor\u001B[39;00m v \u001B[38;5;129;01min\u001B[39;00m out_views]\n",
      "File \u001B[0;32m~/miniconda3/lib/python3.12/site-packages/torch/nn/modules/module.py:1553\u001B[0m, in \u001B[0;36mModule._wrapped_call_impl\u001B[0;34m(self, *args, **kwargs)\u001B[0m\n\u001B[1;32m   1551\u001B[0m     \u001B[38;5;28;01mreturn\u001B[39;00m \u001B[38;5;28mself\u001B[39m\u001B[38;5;241m.\u001B[39m_compiled_call_impl(\u001B[38;5;241m*\u001B[39margs, \u001B[38;5;241m*\u001B[39m\u001B[38;5;241m*\u001B[39mkwargs)  \u001B[38;5;66;03m# type: ignore[misc]\u001B[39;00m\n\u001B[1;32m   1552\u001B[0m \u001B[38;5;28;01melse\u001B[39;00m:\n\u001B[0;32m-> 1553\u001B[0m     \u001B[38;5;28;01mreturn\u001B[39;00m \u001B[38;5;28;43mself\u001B[39;49m\u001B[38;5;241;43m.\u001B[39;49m\u001B[43m_call_impl\u001B[49m\u001B[43m(\u001B[49m\u001B[38;5;241;43m*\u001B[39;49m\u001B[43margs\u001B[49m\u001B[43m,\u001B[49m\u001B[43m \u001B[49m\u001B[38;5;241;43m*\u001B[39;49m\u001B[38;5;241;43m*\u001B[39;49m\u001B[43mkwargs\u001B[49m\u001B[43m)\u001B[49m\n",
      "File \u001B[0;32m~/miniconda3/lib/python3.12/site-packages/torch/nn/modules/module.py:1562\u001B[0m, in \u001B[0;36mModule._call_impl\u001B[0;34m(self, *args, **kwargs)\u001B[0m\n\u001B[1;32m   1557\u001B[0m \u001B[38;5;66;03m# If we don't have any hooks, we want to skip the rest of the logic in\u001B[39;00m\n\u001B[1;32m   1558\u001B[0m \u001B[38;5;66;03m# this function, and just call forward.\u001B[39;00m\n\u001B[1;32m   1559\u001B[0m \u001B[38;5;28;01mif\u001B[39;00m \u001B[38;5;129;01mnot\u001B[39;00m (\u001B[38;5;28mself\u001B[39m\u001B[38;5;241m.\u001B[39m_backward_hooks \u001B[38;5;129;01mor\u001B[39;00m \u001B[38;5;28mself\u001B[39m\u001B[38;5;241m.\u001B[39m_backward_pre_hooks \u001B[38;5;129;01mor\u001B[39;00m \u001B[38;5;28mself\u001B[39m\u001B[38;5;241m.\u001B[39m_forward_hooks \u001B[38;5;129;01mor\u001B[39;00m \u001B[38;5;28mself\u001B[39m\u001B[38;5;241m.\u001B[39m_forward_pre_hooks\n\u001B[1;32m   1560\u001B[0m         \u001B[38;5;129;01mor\u001B[39;00m _global_backward_pre_hooks \u001B[38;5;129;01mor\u001B[39;00m _global_backward_hooks\n\u001B[1;32m   1561\u001B[0m         \u001B[38;5;129;01mor\u001B[39;00m _global_forward_hooks \u001B[38;5;129;01mor\u001B[39;00m _global_forward_pre_hooks):\n\u001B[0;32m-> 1562\u001B[0m     \u001B[38;5;28;01mreturn\u001B[39;00m \u001B[43mforward_call\u001B[49m\u001B[43m(\u001B[49m\u001B[38;5;241;43m*\u001B[39;49m\u001B[43margs\u001B[49m\u001B[43m,\u001B[49m\u001B[43m \u001B[49m\u001B[38;5;241;43m*\u001B[39;49m\u001B[38;5;241;43m*\u001B[39;49m\u001B[43mkwargs\u001B[49m\u001B[43m)\u001B[49m\n\u001B[1;32m   1564\u001B[0m \u001B[38;5;28;01mtry\u001B[39;00m:\n\u001B[1;32m   1565\u001B[0m     result \u001B[38;5;241m=\u001B[39m \u001B[38;5;28;01mNone\u001B[39;00m\n",
      "File \u001B[0;32m~/miniconda3/lib/python3.12/site-packages/torchvision/models/convnext.py:176\u001B[0m, in \u001B[0;36mConvNeXt.forward\u001B[0;34m(self, x)\u001B[0m\n\u001B[1;32m    175\u001B[0m \u001B[38;5;28;01mdef\u001B[39;00m \u001B[38;5;21mforward\u001B[39m(\u001B[38;5;28mself\u001B[39m, x: Tensor) \u001B[38;5;241m-\u001B[39m\u001B[38;5;241m>\u001B[39m Tensor:\n\u001B[0;32m--> 176\u001B[0m     \u001B[38;5;28;01mreturn\u001B[39;00m \u001B[38;5;28;43mself\u001B[39;49m\u001B[38;5;241;43m.\u001B[39;49m\u001B[43m_forward_impl\u001B[49m\u001B[43m(\u001B[49m\u001B[43mx\u001B[49m\u001B[43m)\u001B[49m\n",
      "File \u001B[0;32m~/miniconda3/lib/python3.12/site-packages/torchvision/models/convnext.py:170\u001B[0m, in \u001B[0;36mConvNeXt._forward_impl\u001B[0;34m(self, x)\u001B[0m\n\u001B[1;32m    169\u001B[0m \u001B[38;5;28;01mdef\u001B[39;00m \u001B[38;5;21m_forward_impl\u001B[39m(\u001B[38;5;28mself\u001B[39m, x: Tensor) \u001B[38;5;241m-\u001B[39m\u001B[38;5;241m>\u001B[39m Tensor:\n\u001B[0;32m--> 170\u001B[0m     x \u001B[38;5;241m=\u001B[39m \u001B[38;5;28;43mself\u001B[39;49m\u001B[38;5;241;43m.\u001B[39;49m\u001B[43mfeatures\u001B[49m\u001B[43m(\u001B[49m\u001B[43mx\u001B[49m\u001B[43m)\u001B[49m\n\u001B[1;32m    171\u001B[0m     x \u001B[38;5;241m=\u001B[39m \u001B[38;5;28mself\u001B[39m\u001B[38;5;241m.\u001B[39mavgpool(x)\n\u001B[1;32m    172\u001B[0m     x \u001B[38;5;241m=\u001B[39m \u001B[38;5;28mself\u001B[39m\u001B[38;5;241m.\u001B[39mclassifier(x)\n",
      "File \u001B[0;32m~/miniconda3/lib/python3.12/site-packages/torch/nn/modules/module.py:1553\u001B[0m, in \u001B[0;36mModule._wrapped_call_impl\u001B[0;34m(self, *args, **kwargs)\u001B[0m\n\u001B[1;32m   1551\u001B[0m     \u001B[38;5;28;01mreturn\u001B[39;00m \u001B[38;5;28mself\u001B[39m\u001B[38;5;241m.\u001B[39m_compiled_call_impl(\u001B[38;5;241m*\u001B[39margs, \u001B[38;5;241m*\u001B[39m\u001B[38;5;241m*\u001B[39mkwargs)  \u001B[38;5;66;03m# type: ignore[misc]\u001B[39;00m\n\u001B[1;32m   1552\u001B[0m \u001B[38;5;28;01melse\u001B[39;00m:\n\u001B[0;32m-> 1553\u001B[0m     \u001B[38;5;28;01mreturn\u001B[39;00m \u001B[38;5;28;43mself\u001B[39;49m\u001B[38;5;241;43m.\u001B[39;49m\u001B[43m_call_impl\u001B[49m\u001B[43m(\u001B[49m\u001B[38;5;241;43m*\u001B[39;49m\u001B[43margs\u001B[49m\u001B[43m,\u001B[49m\u001B[43m \u001B[49m\u001B[38;5;241;43m*\u001B[39;49m\u001B[38;5;241;43m*\u001B[39;49m\u001B[43mkwargs\u001B[49m\u001B[43m)\u001B[49m\n",
      "File \u001B[0;32m~/miniconda3/lib/python3.12/site-packages/torch/nn/modules/module.py:1562\u001B[0m, in \u001B[0;36mModule._call_impl\u001B[0;34m(self, *args, **kwargs)\u001B[0m\n\u001B[1;32m   1557\u001B[0m \u001B[38;5;66;03m# If we don't have any hooks, we want to skip the rest of the logic in\u001B[39;00m\n\u001B[1;32m   1558\u001B[0m \u001B[38;5;66;03m# this function, and just call forward.\u001B[39;00m\n\u001B[1;32m   1559\u001B[0m \u001B[38;5;28;01mif\u001B[39;00m \u001B[38;5;129;01mnot\u001B[39;00m (\u001B[38;5;28mself\u001B[39m\u001B[38;5;241m.\u001B[39m_backward_hooks \u001B[38;5;129;01mor\u001B[39;00m \u001B[38;5;28mself\u001B[39m\u001B[38;5;241m.\u001B[39m_backward_pre_hooks \u001B[38;5;129;01mor\u001B[39;00m \u001B[38;5;28mself\u001B[39m\u001B[38;5;241m.\u001B[39m_forward_hooks \u001B[38;5;129;01mor\u001B[39;00m \u001B[38;5;28mself\u001B[39m\u001B[38;5;241m.\u001B[39m_forward_pre_hooks\n\u001B[1;32m   1560\u001B[0m         \u001B[38;5;129;01mor\u001B[39;00m _global_backward_pre_hooks \u001B[38;5;129;01mor\u001B[39;00m _global_backward_hooks\n\u001B[1;32m   1561\u001B[0m         \u001B[38;5;129;01mor\u001B[39;00m _global_forward_hooks \u001B[38;5;129;01mor\u001B[39;00m _global_forward_pre_hooks):\n\u001B[0;32m-> 1562\u001B[0m     \u001B[38;5;28;01mreturn\u001B[39;00m \u001B[43mforward_call\u001B[49m\u001B[43m(\u001B[49m\u001B[38;5;241;43m*\u001B[39;49m\u001B[43margs\u001B[49m\u001B[43m,\u001B[49m\u001B[43m \u001B[49m\u001B[38;5;241;43m*\u001B[39;49m\u001B[38;5;241;43m*\u001B[39;49m\u001B[43mkwargs\u001B[49m\u001B[43m)\u001B[49m\n\u001B[1;32m   1564\u001B[0m \u001B[38;5;28;01mtry\u001B[39;00m:\n\u001B[1;32m   1565\u001B[0m     result \u001B[38;5;241m=\u001B[39m \u001B[38;5;28;01mNone\u001B[39;00m\n",
      "File \u001B[0;32m~/miniconda3/lib/python3.12/site-packages/torch/nn/modules/container.py:219\u001B[0m, in \u001B[0;36mSequential.forward\u001B[0;34m(self, input)\u001B[0m\n\u001B[1;32m    217\u001B[0m \u001B[38;5;28;01mdef\u001B[39;00m \u001B[38;5;21mforward\u001B[39m(\u001B[38;5;28mself\u001B[39m, \u001B[38;5;28minput\u001B[39m):\n\u001B[1;32m    218\u001B[0m     \u001B[38;5;28;01mfor\u001B[39;00m module \u001B[38;5;129;01min\u001B[39;00m \u001B[38;5;28mself\u001B[39m:\n\u001B[0;32m--> 219\u001B[0m         \u001B[38;5;28minput\u001B[39m \u001B[38;5;241m=\u001B[39m \u001B[43mmodule\u001B[49m\u001B[43m(\u001B[49m\u001B[38;5;28;43minput\u001B[39;49m\u001B[43m)\u001B[49m\n\u001B[1;32m    220\u001B[0m     \u001B[38;5;28;01mreturn\u001B[39;00m \u001B[38;5;28minput\u001B[39m\n",
      "File \u001B[0;32m~/miniconda3/lib/python3.12/site-packages/torch/nn/modules/module.py:1553\u001B[0m, in \u001B[0;36mModule._wrapped_call_impl\u001B[0;34m(self, *args, **kwargs)\u001B[0m\n\u001B[1;32m   1551\u001B[0m     \u001B[38;5;28;01mreturn\u001B[39;00m \u001B[38;5;28mself\u001B[39m\u001B[38;5;241m.\u001B[39m_compiled_call_impl(\u001B[38;5;241m*\u001B[39margs, \u001B[38;5;241m*\u001B[39m\u001B[38;5;241m*\u001B[39mkwargs)  \u001B[38;5;66;03m# type: ignore[misc]\u001B[39;00m\n\u001B[1;32m   1552\u001B[0m \u001B[38;5;28;01melse\u001B[39;00m:\n\u001B[0;32m-> 1553\u001B[0m     \u001B[38;5;28;01mreturn\u001B[39;00m \u001B[38;5;28;43mself\u001B[39;49m\u001B[38;5;241;43m.\u001B[39;49m\u001B[43m_call_impl\u001B[49m\u001B[43m(\u001B[49m\u001B[38;5;241;43m*\u001B[39;49m\u001B[43margs\u001B[49m\u001B[43m,\u001B[49m\u001B[43m \u001B[49m\u001B[38;5;241;43m*\u001B[39;49m\u001B[38;5;241;43m*\u001B[39;49m\u001B[43mkwargs\u001B[49m\u001B[43m)\u001B[49m\n",
      "File \u001B[0;32m~/miniconda3/lib/python3.12/site-packages/torch/nn/modules/module.py:1562\u001B[0m, in \u001B[0;36mModule._call_impl\u001B[0;34m(self, *args, **kwargs)\u001B[0m\n\u001B[1;32m   1557\u001B[0m \u001B[38;5;66;03m# If we don't have any hooks, we want to skip the rest of the logic in\u001B[39;00m\n\u001B[1;32m   1558\u001B[0m \u001B[38;5;66;03m# this function, and just call forward.\u001B[39;00m\n\u001B[1;32m   1559\u001B[0m \u001B[38;5;28;01mif\u001B[39;00m \u001B[38;5;129;01mnot\u001B[39;00m (\u001B[38;5;28mself\u001B[39m\u001B[38;5;241m.\u001B[39m_backward_hooks \u001B[38;5;129;01mor\u001B[39;00m \u001B[38;5;28mself\u001B[39m\u001B[38;5;241m.\u001B[39m_backward_pre_hooks \u001B[38;5;129;01mor\u001B[39;00m \u001B[38;5;28mself\u001B[39m\u001B[38;5;241m.\u001B[39m_forward_hooks \u001B[38;5;129;01mor\u001B[39;00m \u001B[38;5;28mself\u001B[39m\u001B[38;5;241m.\u001B[39m_forward_pre_hooks\n\u001B[1;32m   1560\u001B[0m         \u001B[38;5;129;01mor\u001B[39;00m _global_backward_pre_hooks \u001B[38;5;129;01mor\u001B[39;00m _global_backward_hooks\n\u001B[1;32m   1561\u001B[0m         \u001B[38;5;129;01mor\u001B[39;00m _global_forward_hooks \u001B[38;5;129;01mor\u001B[39;00m _global_forward_pre_hooks):\n\u001B[0;32m-> 1562\u001B[0m     \u001B[38;5;28;01mreturn\u001B[39;00m \u001B[43mforward_call\u001B[49m\u001B[43m(\u001B[49m\u001B[38;5;241;43m*\u001B[39;49m\u001B[43margs\u001B[49m\u001B[43m,\u001B[49m\u001B[43m \u001B[49m\u001B[38;5;241;43m*\u001B[39;49m\u001B[38;5;241;43m*\u001B[39;49m\u001B[43mkwargs\u001B[49m\u001B[43m)\u001B[49m\n\u001B[1;32m   1564\u001B[0m \u001B[38;5;28;01mtry\u001B[39;00m:\n\u001B[1;32m   1565\u001B[0m     result \u001B[38;5;241m=\u001B[39m \u001B[38;5;28;01mNone\u001B[39;00m\n",
      "File \u001B[0;32m~/miniconda3/lib/python3.12/site-packages/torch/nn/modules/container.py:219\u001B[0m, in \u001B[0;36mSequential.forward\u001B[0;34m(self, input)\u001B[0m\n\u001B[1;32m    217\u001B[0m \u001B[38;5;28;01mdef\u001B[39;00m \u001B[38;5;21mforward\u001B[39m(\u001B[38;5;28mself\u001B[39m, \u001B[38;5;28minput\u001B[39m):\n\u001B[1;32m    218\u001B[0m     \u001B[38;5;28;01mfor\u001B[39;00m module \u001B[38;5;129;01min\u001B[39;00m \u001B[38;5;28mself\u001B[39m:\n\u001B[0;32m--> 219\u001B[0m         \u001B[38;5;28minput\u001B[39m \u001B[38;5;241m=\u001B[39m \u001B[43mmodule\u001B[49m\u001B[43m(\u001B[49m\u001B[38;5;28;43minput\u001B[39;49m\u001B[43m)\u001B[49m\n\u001B[1;32m    220\u001B[0m     \u001B[38;5;28;01mreturn\u001B[39;00m \u001B[38;5;28minput\u001B[39m\n",
      "File \u001B[0;32m~/miniconda3/lib/python3.12/site-packages/torch/nn/modules/module.py:1553\u001B[0m, in \u001B[0;36mModule._wrapped_call_impl\u001B[0;34m(self, *args, **kwargs)\u001B[0m\n\u001B[1;32m   1551\u001B[0m     \u001B[38;5;28;01mreturn\u001B[39;00m \u001B[38;5;28mself\u001B[39m\u001B[38;5;241m.\u001B[39m_compiled_call_impl(\u001B[38;5;241m*\u001B[39margs, \u001B[38;5;241m*\u001B[39m\u001B[38;5;241m*\u001B[39mkwargs)  \u001B[38;5;66;03m# type: ignore[misc]\u001B[39;00m\n\u001B[1;32m   1552\u001B[0m \u001B[38;5;28;01melse\u001B[39;00m:\n\u001B[0;32m-> 1553\u001B[0m     \u001B[38;5;28;01mreturn\u001B[39;00m \u001B[38;5;28;43mself\u001B[39;49m\u001B[38;5;241;43m.\u001B[39;49m\u001B[43m_call_impl\u001B[49m\u001B[43m(\u001B[49m\u001B[38;5;241;43m*\u001B[39;49m\u001B[43margs\u001B[49m\u001B[43m,\u001B[49m\u001B[43m \u001B[49m\u001B[38;5;241;43m*\u001B[39;49m\u001B[38;5;241;43m*\u001B[39;49m\u001B[43mkwargs\u001B[49m\u001B[43m)\u001B[49m\n",
      "File \u001B[0;32m~/miniconda3/lib/python3.12/site-packages/torch/nn/modules/module.py:1562\u001B[0m, in \u001B[0;36mModule._call_impl\u001B[0;34m(self, *args, **kwargs)\u001B[0m\n\u001B[1;32m   1557\u001B[0m \u001B[38;5;66;03m# If we don't have any hooks, we want to skip the rest of the logic in\u001B[39;00m\n\u001B[1;32m   1558\u001B[0m \u001B[38;5;66;03m# this function, and just call forward.\u001B[39;00m\n\u001B[1;32m   1559\u001B[0m \u001B[38;5;28;01mif\u001B[39;00m \u001B[38;5;129;01mnot\u001B[39;00m (\u001B[38;5;28mself\u001B[39m\u001B[38;5;241m.\u001B[39m_backward_hooks \u001B[38;5;129;01mor\u001B[39;00m \u001B[38;5;28mself\u001B[39m\u001B[38;5;241m.\u001B[39m_backward_pre_hooks \u001B[38;5;129;01mor\u001B[39;00m \u001B[38;5;28mself\u001B[39m\u001B[38;5;241m.\u001B[39m_forward_hooks \u001B[38;5;129;01mor\u001B[39;00m \u001B[38;5;28mself\u001B[39m\u001B[38;5;241m.\u001B[39m_forward_pre_hooks\n\u001B[1;32m   1560\u001B[0m         \u001B[38;5;129;01mor\u001B[39;00m _global_backward_pre_hooks \u001B[38;5;129;01mor\u001B[39;00m _global_backward_hooks\n\u001B[1;32m   1561\u001B[0m         \u001B[38;5;129;01mor\u001B[39;00m _global_forward_hooks \u001B[38;5;129;01mor\u001B[39;00m _global_forward_pre_hooks):\n\u001B[0;32m-> 1562\u001B[0m     \u001B[38;5;28;01mreturn\u001B[39;00m \u001B[43mforward_call\u001B[49m\u001B[43m(\u001B[49m\u001B[38;5;241;43m*\u001B[39;49m\u001B[43margs\u001B[49m\u001B[43m,\u001B[49m\u001B[43m \u001B[49m\u001B[38;5;241;43m*\u001B[39;49m\u001B[38;5;241;43m*\u001B[39;49m\u001B[43mkwargs\u001B[49m\u001B[43m)\u001B[49m\n\u001B[1;32m   1564\u001B[0m \u001B[38;5;28;01mtry\u001B[39;00m:\n\u001B[1;32m   1565\u001B[0m     result \u001B[38;5;241m=\u001B[39m \u001B[38;5;28;01mNone\u001B[39;00m\n",
      "File \u001B[0;32m~/miniconda3/lib/python3.12/site-packages/torchvision/models/convnext.py:63\u001B[0m, in \u001B[0;36mCNBlock.forward\u001B[0;34m(self, input)\u001B[0m\n\u001B[1;32m     62\u001B[0m \u001B[38;5;28;01mdef\u001B[39;00m \u001B[38;5;21mforward\u001B[39m(\u001B[38;5;28mself\u001B[39m, \u001B[38;5;28minput\u001B[39m: Tensor) \u001B[38;5;241m-\u001B[39m\u001B[38;5;241m>\u001B[39m Tensor:\n\u001B[0;32m---> 63\u001B[0m     result \u001B[38;5;241m=\u001B[39m \u001B[38;5;28mself\u001B[39m\u001B[38;5;241m.\u001B[39mlayer_scale \u001B[38;5;241m*\u001B[39m \u001B[38;5;28;43mself\u001B[39;49m\u001B[38;5;241;43m.\u001B[39;49m\u001B[43mblock\u001B[49m\u001B[43m(\u001B[49m\u001B[38;5;28;43minput\u001B[39;49m\u001B[43m)\u001B[49m\n\u001B[1;32m     64\u001B[0m     result \u001B[38;5;241m=\u001B[39m \u001B[38;5;28mself\u001B[39m\u001B[38;5;241m.\u001B[39mstochastic_depth(result)\n\u001B[1;32m     65\u001B[0m     result \u001B[38;5;241m+\u001B[39m\u001B[38;5;241m=\u001B[39m \u001B[38;5;28minput\u001B[39m\n",
      "File \u001B[0;32m~/miniconda3/lib/python3.12/site-packages/torch/nn/modules/module.py:1553\u001B[0m, in \u001B[0;36mModule._wrapped_call_impl\u001B[0;34m(self, *args, **kwargs)\u001B[0m\n\u001B[1;32m   1551\u001B[0m     \u001B[38;5;28;01mreturn\u001B[39;00m \u001B[38;5;28mself\u001B[39m\u001B[38;5;241m.\u001B[39m_compiled_call_impl(\u001B[38;5;241m*\u001B[39margs, \u001B[38;5;241m*\u001B[39m\u001B[38;5;241m*\u001B[39mkwargs)  \u001B[38;5;66;03m# type: ignore[misc]\u001B[39;00m\n\u001B[1;32m   1552\u001B[0m \u001B[38;5;28;01melse\u001B[39;00m:\n\u001B[0;32m-> 1553\u001B[0m     \u001B[38;5;28;01mreturn\u001B[39;00m \u001B[38;5;28;43mself\u001B[39;49m\u001B[38;5;241;43m.\u001B[39;49m\u001B[43m_call_impl\u001B[49m\u001B[43m(\u001B[49m\u001B[38;5;241;43m*\u001B[39;49m\u001B[43margs\u001B[49m\u001B[43m,\u001B[49m\u001B[43m \u001B[49m\u001B[38;5;241;43m*\u001B[39;49m\u001B[38;5;241;43m*\u001B[39;49m\u001B[43mkwargs\u001B[49m\u001B[43m)\u001B[49m\n",
      "File \u001B[0;32m~/miniconda3/lib/python3.12/site-packages/torch/nn/modules/module.py:1562\u001B[0m, in \u001B[0;36mModule._call_impl\u001B[0;34m(self, *args, **kwargs)\u001B[0m\n\u001B[1;32m   1557\u001B[0m \u001B[38;5;66;03m# If we don't have any hooks, we want to skip the rest of the logic in\u001B[39;00m\n\u001B[1;32m   1558\u001B[0m \u001B[38;5;66;03m# this function, and just call forward.\u001B[39;00m\n\u001B[1;32m   1559\u001B[0m \u001B[38;5;28;01mif\u001B[39;00m \u001B[38;5;129;01mnot\u001B[39;00m (\u001B[38;5;28mself\u001B[39m\u001B[38;5;241m.\u001B[39m_backward_hooks \u001B[38;5;129;01mor\u001B[39;00m \u001B[38;5;28mself\u001B[39m\u001B[38;5;241m.\u001B[39m_backward_pre_hooks \u001B[38;5;129;01mor\u001B[39;00m \u001B[38;5;28mself\u001B[39m\u001B[38;5;241m.\u001B[39m_forward_hooks \u001B[38;5;129;01mor\u001B[39;00m \u001B[38;5;28mself\u001B[39m\u001B[38;5;241m.\u001B[39m_forward_pre_hooks\n\u001B[1;32m   1560\u001B[0m         \u001B[38;5;129;01mor\u001B[39;00m _global_backward_pre_hooks \u001B[38;5;129;01mor\u001B[39;00m _global_backward_hooks\n\u001B[1;32m   1561\u001B[0m         \u001B[38;5;129;01mor\u001B[39;00m _global_forward_hooks \u001B[38;5;129;01mor\u001B[39;00m _global_forward_pre_hooks):\n\u001B[0;32m-> 1562\u001B[0m     \u001B[38;5;28;01mreturn\u001B[39;00m \u001B[43mforward_call\u001B[49m\u001B[43m(\u001B[49m\u001B[38;5;241;43m*\u001B[39;49m\u001B[43margs\u001B[49m\u001B[43m,\u001B[49m\u001B[43m \u001B[49m\u001B[38;5;241;43m*\u001B[39;49m\u001B[38;5;241;43m*\u001B[39;49m\u001B[43mkwargs\u001B[49m\u001B[43m)\u001B[49m\n\u001B[1;32m   1564\u001B[0m \u001B[38;5;28;01mtry\u001B[39;00m:\n\u001B[1;32m   1565\u001B[0m     result \u001B[38;5;241m=\u001B[39m \u001B[38;5;28;01mNone\u001B[39;00m\n",
      "File \u001B[0;32m~/miniconda3/lib/python3.12/site-packages/torch/nn/modules/container.py:219\u001B[0m, in \u001B[0;36mSequential.forward\u001B[0;34m(self, input)\u001B[0m\n\u001B[1;32m    217\u001B[0m \u001B[38;5;28;01mdef\u001B[39;00m \u001B[38;5;21mforward\u001B[39m(\u001B[38;5;28mself\u001B[39m, \u001B[38;5;28minput\u001B[39m):\n\u001B[1;32m    218\u001B[0m     \u001B[38;5;28;01mfor\u001B[39;00m module \u001B[38;5;129;01min\u001B[39;00m \u001B[38;5;28mself\u001B[39m:\n\u001B[0;32m--> 219\u001B[0m         \u001B[38;5;28minput\u001B[39m \u001B[38;5;241m=\u001B[39m \u001B[43mmodule\u001B[49m\u001B[43m(\u001B[49m\u001B[38;5;28;43minput\u001B[39;49m\u001B[43m)\u001B[49m\n\u001B[1;32m    220\u001B[0m     \u001B[38;5;28;01mreturn\u001B[39;00m \u001B[38;5;28minput\u001B[39m\n",
      "File \u001B[0;32m~/miniconda3/lib/python3.12/site-packages/torch/nn/modules/module.py:1553\u001B[0m, in \u001B[0;36mModule._wrapped_call_impl\u001B[0;34m(self, *args, **kwargs)\u001B[0m\n\u001B[1;32m   1551\u001B[0m     \u001B[38;5;28;01mreturn\u001B[39;00m \u001B[38;5;28mself\u001B[39m\u001B[38;5;241m.\u001B[39m_compiled_call_impl(\u001B[38;5;241m*\u001B[39margs, \u001B[38;5;241m*\u001B[39m\u001B[38;5;241m*\u001B[39mkwargs)  \u001B[38;5;66;03m# type: ignore[misc]\u001B[39;00m\n\u001B[1;32m   1552\u001B[0m \u001B[38;5;28;01melse\u001B[39;00m:\n\u001B[0;32m-> 1553\u001B[0m     \u001B[38;5;28;01mreturn\u001B[39;00m \u001B[38;5;28;43mself\u001B[39;49m\u001B[38;5;241;43m.\u001B[39;49m\u001B[43m_call_impl\u001B[49m\u001B[43m(\u001B[49m\u001B[38;5;241;43m*\u001B[39;49m\u001B[43margs\u001B[49m\u001B[43m,\u001B[49m\u001B[43m \u001B[49m\u001B[38;5;241;43m*\u001B[39;49m\u001B[38;5;241;43m*\u001B[39;49m\u001B[43mkwargs\u001B[49m\u001B[43m)\u001B[49m\n",
      "File \u001B[0;32m~/miniconda3/lib/python3.12/site-packages/torch/nn/modules/module.py:1562\u001B[0m, in \u001B[0;36mModule._call_impl\u001B[0;34m(self, *args, **kwargs)\u001B[0m\n\u001B[1;32m   1557\u001B[0m \u001B[38;5;66;03m# If we don't have any hooks, we want to skip the rest of the logic in\u001B[39;00m\n\u001B[1;32m   1558\u001B[0m \u001B[38;5;66;03m# this function, and just call forward.\u001B[39;00m\n\u001B[1;32m   1559\u001B[0m \u001B[38;5;28;01mif\u001B[39;00m \u001B[38;5;129;01mnot\u001B[39;00m (\u001B[38;5;28mself\u001B[39m\u001B[38;5;241m.\u001B[39m_backward_hooks \u001B[38;5;129;01mor\u001B[39;00m \u001B[38;5;28mself\u001B[39m\u001B[38;5;241m.\u001B[39m_backward_pre_hooks \u001B[38;5;129;01mor\u001B[39;00m \u001B[38;5;28mself\u001B[39m\u001B[38;5;241m.\u001B[39m_forward_hooks \u001B[38;5;129;01mor\u001B[39;00m \u001B[38;5;28mself\u001B[39m\u001B[38;5;241m.\u001B[39m_forward_pre_hooks\n\u001B[1;32m   1560\u001B[0m         \u001B[38;5;129;01mor\u001B[39;00m _global_backward_pre_hooks \u001B[38;5;129;01mor\u001B[39;00m _global_backward_hooks\n\u001B[1;32m   1561\u001B[0m         \u001B[38;5;129;01mor\u001B[39;00m _global_forward_hooks \u001B[38;5;129;01mor\u001B[39;00m _global_forward_pre_hooks):\n\u001B[0;32m-> 1562\u001B[0m     \u001B[38;5;28;01mreturn\u001B[39;00m \u001B[43mforward_call\u001B[49m\u001B[43m(\u001B[49m\u001B[38;5;241;43m*\u001B[39;49m\u001B[43margs\u001B[49m\u001B[43m,\u001B[49m\u001B[43m \u001B[49m\u001B[38;5;241;43m*\u001B[39;49m\u001B[38;5;241;43m*\u001B[39;49m\u001B[43mkwargs\u001B[49m\u001B[43m)\u001B[49m\n\u001B[1;32m   1564\u001B[0m \u001B[38;5;28;01mtry\u001B[39;00m:\n\u001B[1;32m   1565\u001B[0m     result \u001B[38;5;241m=\u001B[39m \u001B[38;5;28;01mNone\u001B[39;00m\n",
      "File \u001B[0;32m~/miniconda3/lib/python3.12/site-packages/torch/nn/modules/linear.py:117\u001B[0m, in \u001B[0;36mLinear.forward\u001B[0;34m(self, input)\u001B[0m\n\u001B[1;32m    116\u001B[0m \u001B[38;5;28;01mdef\u001B[39;00m \u001B[38;5;21mforward\u001B[39m(\u001B[38;5;28mself\u001B[39m, \u001B[38;5;28minput\u001B[39m: Tensor) \u001B[38;5;241m-\u001B[39m\u001B[38;5;241m>\u001B[39m Tensor:\n\u001B[0;32m--> 117\u001B[0m     \u001B[38;5;28;01mreturn\u001B[39;00m \u001B[43mF\u001B[49m\u001B[38;5;241;43m.\u001B[39;49m\u001B[43mlinear\u001B[49m\u001B[43m(\u001B[49m\u001B[38;5;28;43minput\u001B[39;49m\u001B[43m,\u001B[49m\u001B[43m \u001B[49m\u001B[38;5;28;43mself\u001B[39;49m\u001B[38;5;241;43m.\u001B[39;49m\u001B[43mweight\u001B[49m\u001B[43m,\u001B[49m\u001B[43m \u001B[49m\u001B[38;5;28;43mself\u001B[39;49m\u001B[38;5;241;43m.\u001B[39;49m\u001B[43mbias\u001B[49m\u001B[43m)\u001B[49m\n",
      "\u001B[0;31mOutOfMemoryError\u001B[0m: CUDA out of memory. Tried to allocate 20.90 GiB. GPU 0 has a total capacity of 23.53 GiB of which 9.87 GiB is free. Including non-PyTorch memory, this process has 13.21 GiB memory in use. Of the allocated memory 12.74 GiB is allocated by PyTorch, and 37.22 MiB is reserved by PyTorch but unallocated. If reserved but unallocated memory is large try setting PYTORCH_CUDA_ALLOC_CONF=expandable_segments:True to avoid fragmentation.  See documentation for Memory Management  (https://pytorch.org/docs/stable/notes/cuda.html#environment-variables)"
     ]
    }
   ],
   "source": [
    "from os.path import split, join\n",
    "\n",
    "for patient in patients:\n",
    "    print(f\"[INFO] Working on {patient}\")\n",
    "    patient_names = []\n",
    "    p = patient\n",
    "    for _ in range(2):\n",
    "        p , name_ = split(p)\n",
    "        patient_names.append(name_)\n",
    "    patient_name = join(*patient_names[::-1])\n",
    "    output_patient_path =  join(OUTPUT, patient_name)\n",
    "    print(f\"output: {output_patient_path}\")\n",
    "    os.makedirs(output_patient_path, exist_ok=True)\n",
    "    numpy_path = join(output_patient_path, \"numpy\")\n",
    "    \n",
    "    if os.path.exists(numpy_path):\n",
    "        stack_of_videos = np.load(numpy_path)\n",
    "    else:\n",
    "        stack_of_videos=process_dicoms(INPUT)\n",
    "        np.save(numpy_path, stack_of_videos)\n",
    "    \n",
    "    print(f\"stack_videos are extracted: {stack_of_videos.shape} for input: {patient}\")\n",
    "    \n",
    "    view_list=get_view_list(stack_of_videos,visualize=True, output=output_patient_path)\n",
    "    \n",
    "    print(view_list)"
   ]
  },
  {
   "cell_type": "code",
   "execution_count": null,
   "id": "a7e334b8",
   "metadata": {},
   "outputs": [],
   "source": []
  },
  {
   "cell_type": "code",
   "execution_count": null,
   "id": "3b91b08b-9916-47c3-9fa1-1f0675de9c36",
   "metadata": {},
   "outputs": [],
   "source": []
  }
 ],
 "metadata": {
  "kernelspec": {
   "display_name": "Python 3 (ipykernel)",
   "language": "python",
   "name": "python3"
  },
  "language_info": {
   "codemirror_mode": {
    "name": "ipython",
    "version": 3
   },
   "file_extension": ".py",
   "mimetype": "text/x-python",
   "name": "python",
   "nbconvert_exporter": "python",
   "pygments_lexer": "ipython3",
   "version": "3.12.3"
  }
 },
 "nbformat": 4,
 "nbformat_minor": 5
}
